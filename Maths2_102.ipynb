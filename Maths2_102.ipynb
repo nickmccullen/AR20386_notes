{
 "cells": [
  {
   "cell_type": "markdown",
   "metadata": {
    "collapsed": true,
    "nbpresent": {
     "id": "a441f688-7cc5-41da-9f66-3463f8fde150"
    }
   },
   "source": [
    "$$\n",
    "\\def\\nn{\\nonumber}\n",
    "\\def\\PD#1#2#3{\\dfrac{\\partial^{#1} #2}{\\partial #3^{#1}}}\n",
    "\\def\\eq#1{\\begin{align}#1\\end{align}}\n",
    "\\def\\eqnum#1{\\begin{align}#1\\end{align}}\n",
    "\\def\\dd{\\text{d}}\n",
    "\\def\\DE#1#2#3{\\dfrac{\\dd^{#1} #2}{\\dd #3^{#1}}}\n",
    "$$\n"
   ]
  },
  {
   "cell_type": "markdown",
   "metadata": {
    "nbpresent": {
     "id": "f9d2149b-dbdf-4f45-b284-c3f933c11d93"
    }
   },
   "source": [
    "# Vector Functions and Flows"
   ]
  },
  {
   "cell_type": "markdown",
   "metadata": {},
   "source": [
    "## Aims\n",
    "\n",
    "1. Draw vector fields that represent flows. \n",
    "2. Obtain the gradient of a scalar function and use this to: \n",
    "3. Calculate the directional derivative of the function.\n",
    "4. Calculate the Divergence and Curl of a vector function"
   ]
  },
  {
   "cell_type": "markdown",
   "metadata": {
    "nbpresent": {
     "id": "da83eb7f-d564-4bd7-bb40-51d31af26393"
    }
   },
   "source": [
    "## Scalar and Vector Fields\n",
    "\n",
    "\n",
    "\n",
    "* A scalar is a single number (positive or negative);\n",
    "* a vector is a *set* of values or coordinates, e.g.: $(x,y,z)$;\n",
    "\n",
    "The temperature in a room is called a _\"scaler field\"_ since it has just one value at each point and is given by a *scalar function* $T(x,y,z)$.\n",
    "\n",
    "* A *vector function* has multiple components $\\vec V = \\left(V_{\\hat i}(x,y,z), V_{\\hat j}(x,y,z), V_{\\hat k}(x,y,z)\\right)$.\n",
    "\n",
    "Air-flow at any point is given by a *vector*, since it also has *direction* at each position, which can be given in terms of the *velocity components* in $\\hat i,$ $\\hat j$ and $\\hat k$."
   ]
  },
  {
   "cell_type": "markdown",
   "metadata": {
    "nbpresent": {
     "id": "6ba9e9a8-7630-4e7f-ac0d-54ce118d0fe4"
    }
   },
   "source": [
    "## Sketching Vector Functions\n",
    "\n",
    "Flows can be drawn as vector *arrows* at each point, with the magnitude of the flow given by the length of the arrow.\n",
    "\n",
    "For example a *rotating* flow of water could be given by the vector function $\\vec V = \\left(y, -x\\right)$, where the components $V_{\\hat i} = y$ and $V_{\\hat j} = -x$\n",
    "\n",
    "\n",
    "This can be sketched at the four points \n",
    "\n",
    "$(x,y) = (-1,1), (1,1), (1,-1), (-1,-1)$\n",
    "\n",
    "where the *flow*  is given by the components:\n",
    "\n",
    "$(V_{\\hat i},V_{\\hat j}) = (1,1), (1,-1), (-1,-1), (-1,1)$.\n",
    "\n",
    "<img width=400 src='Figures/vector.png'>\n",
    "\n",
    "In more detail:\n",
    "\n",
    "<img width=400 src='Figures/vector_circ.png'>"
   ]
  },
  {
   "cell_type": "markdown",
   "metadata": {
    "nbpresent": {
     "id": "86bddc39-48cd-48d2-87e0-e060d9225af8"
    }
   },
   "source": [
    "## The Gradient Operator\n",
    "\n",
    "The *gradient operator* $\\nabla$ (\"del\", written as an upside-down delta ($\\Delta$)) is a multiple component version of the differential operator, defined:\n",
    "\n",
    "$$\n",
    "\\nabla=\\left( \\dfrac{\\partial }{\\partial x}, \\dfrac{\\partial }{\\partial y}, \\dfrac{\\partial }{\\partial z} \\right),\n",
    "$$\n",
    "\n",
    "in three dimensions.\n",
    "It is also called the *\"gradient vector\"*, since it is a vector.\n",
    "It takes a single function and returns three component functions (a vector function).\n",
    " \n",
    "\n",
    "The gradient operator can also be written in terms of the unit vectors $\\hat{i}, \\hat{j}, \\hat{k}$ as:\n",
    "\n",
    "$$\\nabla= \\dfrac{\\partial }{\\partial x} \\hat{i} + \\dfrac{\\partial }{\\partial y} \\hat{j} + \\dfrac{\\partial }{\\partial z} \\hat{k}.$$"
   ]
  },
  {
   "cell_type": "markdown",
   "metadata": {
    "nbpresent": {
     "id": "10fccca4-5b41-445d-b28b-2ca1af2b03cb"
    }
   },
   "source": [
    "## The Maximum Gradient: \"Grad\"\n",
    "\n",
    "The gradient operator can *operate* on a scalar field to produce a vector field, for example  for a temperature field $T=f(x,y,z)$, the **gradient of $T$** (pronounced \"*grad $T$*\") is given by:\n",
    "\n",
    "$$\\eqnum{\n",
    "\\nabla T&=\\left( \\PD{}{T}{x}, \\PD{}{T}{y}, \\PD{}{T}{z} \\right),\n",
    "}$$\n",
    "\n",
    "The temperature gradient vector would give the direction that the temperature is changing the most *at that point*, and the magnitude of that change.\n",
    "That is, it would give the *flow of heat*.\n",
    "\n",
    "* The magnitude $r(a,b,c)$ at any point $x = a$, $y = b$, $z = c$ can be obtained by:\n",
    "\n",
    "$$r=\\left|\\nabla f\\right|=\\sqrt{\\big(f_{\\hat i}\\{x=a\\}\\big)^2+\\big(f_{\\hat j}\\{y=b\\}\\big)^2+\\big(f_{\\hat k}\\{z=c\\}\\big)^2+\\cdots}$$\n",
    "\n",
    "* Gradients point from **low** to **high**,  \n",
    "  but heat flows from **hot** to **cold** and air flows from\n",
    "  **high** to **low** pressure.\n",
    "    - The direction of flow is in the *opposite (negative) direction* to the gradient."
   ]
  },
  {
   "cell_type": "markdown",
   "metadata": {
    "nbpresent": {
     "id": "34594990-2fbf-43b1-90ce-7716b5b236b4"
    }
   },
   "source": [
    "---\n",
    "\n",
    "### Example:\n",
    "Find the gradient of the function $f(x,y)=x^2+y^2$ at the point $(1,2)$.\n",
    "\n",
    "$$\\eq{\n",
    "\\nabla f &=\\left( \\PD{}{}{x}, \\PD{}{}{y} \\right)\\{x^2+y^2\\}\\\\\n",
    "&=\\left( \\PD{}{}{x}\\{x^2+y^2\\}, \\PD{}{}{y}\\{x^2+y^2\\}\\right)\\\\\n",
    "&=(2x,2y).\n",
    "}$$\n",
    "So at the point $(x,y)=(1,2)$:\n",
    "$$\\eq{\n",
    "[\\nabla f]_{(1,2)} = (2,4)\\quad\\equiv 2{\\ \\hat{i}}+4{\\ \\hat{j}},\n",
    "}$$\n",
    "\n",
    "Which has a magnitude of $r=\\sqrt{2^2+4^2}=\\sqrt{20}$."
   ]
  },
  {
   "cell_type": "markdown",
   "metadata": {
    "nbpresent": {
     "id": "e42c068f-0ec4-4321-83e5-a1664889a1f4"
    }
   },
   "source": [
    "## The Directional Derivative\n",
    "\n",
    "To obtain the *gradient* (rate of change) of a function in a particular direction, use the **\"directional derivative\"**:\n",
    "$$\\eqnum{\n",
    "\\DE{}{f}{r} &= \\nabla f \\cdot \\hat{u}.\n",
    "}$$\n",
    "\n",
    "This is the scalar (\"dot\") product of $\\nabla f = (f_{\\hat i},f_{\\hat j},f_{\\hat k})$, which is a vector, with the unit vector in the direction of interest $\\hat u = (a,b,c)$.\n",
    "\n",
    "Remembering that $(u,v,w)\\cdot(x,y,z)=ux+vy+wz$:\n",
    "\n",
    "$$\n",
    "\\left(\\PD{}{f}{x},\\PD{}{f}{y},\\PD{}{f}{z}\\right)\\cdot(a  ,b ,c ) = \\PD{}{f}{x}a+\\PD{}{f}{y}b +\\PD{}{f}{z}c \n",
    "$$\n",
    "\n",
    "### Method to find the directional derivative:\n",
    "\n",
    "1. find the unit vector $\\hat{u}=\\dfrac{A}{|A|}$ in the direction you are interested in;\n",
    "2. calculate the gradient $\\nabla f$;\n",
    "3. Use the directional derivative above."
   ]
  },
  {
   "cell_type": "markdown",
   "metadata": {
    "nbpresent": {
     "id": "7a328a93-8ecd-49ca-a6b2-5496e873a107"
    }
   },
   "source": [
    "---\n",
    "\n",
    "### Example:\n",
    "Using the equation for the directional derivative above, find the directional derivative of $\\phi=x^2y + xz$ at $(1,2,-1)$ in the direction $A=(2,-2,1)$.\n",
    "\n",
    "#### 1. First find the unit vector:\n",
    "\n",
    "$$\\eq{\n",
    "\\hat{u}&=\\frac{A}{|A|}\\\\\n",
    "&=\\frac{(2,-2,1)}{\\sqrt{(2)^2 + (-2)^2 + (1)^2}} =\\left(\\frac{2}{3}, \\frac{-2}{3}, \\frac{1}{3}\\right) \n",
    "}$$\n",
    "\n",
    "#### 2. Now find the gradient of $\\phi$:\n",
    "\n",
    "$$\\eq{\n",
    "\\nabla \\phi &= \\left( \\PD{}{\\phi}{x}, \\PD{}{\\phi}{y}, \\PD{}{\\phi}{z} \\right)\\\\\n",
    "&= ((2xy+z), x^2, x)\n",
    "}$$\n",
    "\n",
    "#### 3. Putting the values $(x,y,z)=(1,2,-1)$ into this gives:\n",
    "\n",
    "$$\\eq{\n",
    "\\nabla \\phi &= ((2(1)(2)+(-1)), (1)^2, (1))\\\\\n",
    "&= (3,1,1)\n",
    "}$$\n",
    "\n",
    "#### 4. Now using the directional derivative:\n",
    "\n",
    "$$\\eq{\n",
    "\\nabla \\phi \\cdot \\hat{u} &= (3, 1, 1)\\cdot\\left(\\frac{2}{3}, \\frac{-2}{3}, \\frac{1}{3}\\right)\\\\\n",
    "&=2 - \\frac{2}{3} + \\frac{1}{3} =\\frac{5}{3}\n",
    "}$$\n",
    "\n",
    "---"
   ]
  },
  {
   "cell_type": "markdown",
   "metadata": {
    "nbpresent": {
     "id": "ec8f861f-4ce7-4caf-8ba2-9f244ab8a509"
    }
   },
   "source": [
    "## Operator Products with Vector Functions\n",
    "\n",
    "Since the gradient operator $\\nabla$ is a vector $\\left( \\PD{}{}{x}, \\PD{}{}{y}, \\ldots \\right)$, it can itself be used with a *vector function* $\\vec{v}(x,y,z) = (v_x(x,y,z),v_y(x,y,z),v_z(x,y,z))$ using the dot or cross product.\n",
    "There is physical meaning to these operations when considering their effect on _vector fields_ such as fluid flows, as they give information about divergence in and rotations of the fluid.\n"
   ]
  },
  {
   "cell_type": "markdown",
   "metadata": {
    "nbpresent": {
     "id": "fd0fa52d-8a26-49dd-bdb1-26c29b1369c2"
    }
   },
   "source": [
    "## The Divergence of a Flow\n",
    "\n",
    "The *dot product* of the gradient operator on a field given by a\n",
    "function $\\vec{v}(x,y,z)$ is called the **_“divergence”_** of the field:\n",
    "\n",
    "$$\\eqnum{\n",
    "\\textbf{Div} \\{ \\vec{v} \\} &= \\nabla \\cdot \\vec{v} = \\PD{}{v_{\\hat i}}{x} + \\PD{}{v_{\\hat j}}{y} + \\PD{}{v_{\\hat k}}{z}.\n",
    "}$$\n",
    "\n",
    "The divergence is a scalar quantity that gives whether the amount of\n",
    "*stuff* is *diverging* and becoming less dense at a point, or vice versa."
   ]
  },
  {
   "cell_type": "markdown",
   "metadata": {
    "nbpresent": {
     "id": "dcaac5de-8354-4a26-ab39-ec6dc6187bc5"
    }
   },
   "source": [
    "---\n",
    "\n",
    "### Example: $\\vec v = (2x, 2y)$\n",
    "\n",
    "\n",
    "\n",
    "<img width=400 src='Figures/vector_2x2y.png'>"
   ]
  },
  {
   "cell_type": "markdown",
   "metadata": {
    "nbpresent": {
     "id": "8f7db978-ac85-417e-8eb3-21717ff8bd79"
    }
   },
   "source": [
    "---\n",
    "\n",
    "### Example:\n",
    "Find an expression for the divergence of $\\vec{v} = 2x \\hat{i} + 2y \\hat{j}$\n",
    "\n",
    "$$\\eq{\n",
    "\\nabla \\cdot \\vec{v} &= \\left( \\PD{}{}{x}, \\PD{}{}{y}\\right) \\cdot (2x,2y)\\\\\n",
    "&=  \\PD{}{(2x)}{x} + \\PD{}{(2y)}{y} =  2 + 2 = 4\n",
    "}$$\n",
    "\n",
    "Which is a constant divergence of 4 everywhere.\n",
    "\n",
    "\n",
    "---"
   ]
  },
  {
   "cell_type": "markdown",
   "metadata": {
    "nbpresent": {
     "id": "b05fca05-32ec-41ae-ae37-37eea542e1c9"
    }
   },
   "source": [
    "In physical problems where a fluid is incompressible and there are no\n",
    "*sources* creating new fluid or *sinks* taking it away, the divergence\n",
    "is set to zero: \n",
    "\n",
    "$$\n",
    "\\nabla \\cdot \\vec{v} = 0,\n",
    "$$\n",
    "\n",
    "which is a *partial differential equation*: \n",
    "\n",
    "$$\n",
    "\\PD{}{v_{\\hat i}}{x}+\\PD{}{v_{\\hat j}}{y}+\\PD{}{v_{\\hat k}}{z}=0.\n",
    "$$"
   ]
  },
  {
   "cell_type": "markdown",
   "metadata": {
    "nbpresent": {
     "id": "62e04f9d-428f-4cc6-bf8b-f11e8cd89410"
    }
   },
   "source": [
    "## The Curl of a Flow\n",
    "\n",
    "The *cross product* similarly has physical meaning when applied to\n",
    "vector fields, and is called the ***“curl”*** of a vector field: \n",
    "\n",
    "\n",
    "$$\\eqnum{\n",
    "\\nabla \\times \\Phi &= \\left| \n",
    "\\begin{matrix}\n",
    "\\hat{i}&\\hat{j}&\\hat{k}\\\\\n",
    "\\PD{}{}{x}&\\PD{}{}{y}&\\PD{}{}{z}\\\\\n",
    "v_{\\hat i}&v_{\\hat j}&v_{\\hat k}\n",
    "\\end{matrix}\n",
    "\\right|\\\\\n",
    "&=\\left( \\PD{}{v_{\\hat k}}{y} - \\PD{}{v_{\\hat j}}{z} \\right)\\hat{i}\n",
    "- \\left( \\PD{}{v_{\\hat k}}{x} - \\PD{}{v_{\\hat i}}{z}\\right)\\hat{j}\n",
    "+ \\left( \\PD{}{v_{\\hat j}}{x} - \\PD{}{v_{\\hat i}}{y} \\right)\\hat{k}\\nn\\\\\n",
    "&=\\left[\\left( \\PD{}{v_{\\hat k}}{y} - \\PD{}{v_{\\hat j}}{z} \\right),\n",
    "\\left( \\PD{}{v_{\\hat i}}{z} - \\PD{}{v_{\\hat k}}{x} \\right),\n",
    "\\left( \\PD{}{v_{\\hat j}}{x} - \\PD{}{v_{\\hat i}}{y} \\right)\\right]\\nn\n",
    "}$$\n",
    "\n",
    "This\n",
    "gives rotations of the vectors at points in the field, and is a measure\n",
    "of *vorticity* at points in fluids and other fields."
   ]
  },
  {
   "cell_type": "markdown",
   "metadata": {},
   "source": [
    "### Example: \n",
    "To show that the flow of $\\vec V = (y, -x)$ has *curl* (Note: a $z$ component is needed as the curl vector is drawn *perpendicular* to the plane of rotation):\n",
    "\n",
    "$$\\eq{\n",
    "\\nabla \\times \\Phi &= \\left| \n",
    "\\begin{matrix}\n",
    "\\hat{i}&\\hat{j}&\\hat{k}\\\\\n",
    "\\PD{}{}{x}&\\PD{}{}{y}&\\PD{}{}{z}\\\\\n",
    "{y}&{-x}&{0}\n",
    "\\end{matrix}\n",
    "\\right|\\\\\n",
    "&= \\left(\\left( \\PD{}{\\{0\\}}{y} - \\PD{}{\\{-x\\}}{z} \\right),\n",
    "\\left( \\PD{}{\\{y\\}}{z} - \\PD{}{\\{0\\}}{x} \\right),\n",
    "\\left( \\PD{}{\\{-x\\}}{x} - \\PD{}{\\{y\\}}{y} \\right)\\right)\\\\\n",
    "&= \\left(\\left( {0} - {0} \\right),\n",
    "\\left( {0} - {0} \\right),\n",
    "\\left( {-1} - {1} \\right)\\right)\\\\\n",
    "&= ({{0},{0},{-2})\n",
    "}\n",
    "}$$\n",
    "\n",
    "The rotation is a constant 2 (clockwise from above) everywhere."
   ]
  },
  {
   "cell_type": "markdown",
   "metadata": {
    "nbpresent": {
     "id": "d715dca2-2e4b-4e86-92e5-3435a0321932"
    }
   },
   "source": [
    "### Extra FYI: Higher Derivatives\n",
    "\n",
    "The gradient operator can be applied multiple times, for example: \n",
    "\n",
    "$$\\eqnum{\n",
    "\\nabla \\cdot \\nabla \\phi = \\nabla \\cdot \\left( \\nabla \\phi\\right) \n",
    "&=  \\PD{}{}{x}\\left\\{ \\PD{}{\\phi}{x} \\right\\} + \\PD{}{}{y}\\left\\{ \\PD{}{\\phi}{y} \\right\\} + \\PD{}{}{z}\\left\\{ \\PD{}{\\phi}{z} \\right\\}, \\nn\\\\\n",
    " &= \\PD{2}{\\phi}{x} + \\PD{2}{\\phi}{y} + \\PD{2}{\\phi}{z}; \\\\\n",
    "\\text{or written as:}\\quad \\nabla^2 \\phi &=\\phi_{xx} + \\phi_{yy}  + \\phi_{zz} \\nn.\n",
    "}$$\n",
    "\n",
    "\n",
    "\n",
    "The\n",
    "*“diffusion operator”*:  $\\nabla^2$ is called the ***Laplacian***, and\n",
    "appears frequently in engineering applications in the Laplace equation,\n",
    "the wave equation and the diffusion or heat conduction equation, as we will see later."
   ]
  }
 ],
 "metadata": {
  "anaconda-cloud": {},
  "kernelspec": {
   "display_name": "Python 3",
   "language": "python",
   "name": "python3"
  },
  "language_info": {
   "codemirror_mode": {
    "name": "ipython",
    "version": 3
   },
   "file_extension": ".py",
   "mimetype": "text/x-python",
   "name": "python",
   "nbconvert_exporter": "python",
   "pygments_lexer": "ipython3",
   "version": "3.8.5"
  },
  "nbpresent": {
   "slides": {
    "09f8fb7d-0add-4755-972a-92e9a9e81afd": {
     "id": "09f8fb7d-0add-4755-972a-92e9a9e81afd",
     "prev": "b5671042-5485-43b7-9d2d-bfd493a7a4e3",
     "regions": {
      "a62f081d-c29f-4394-afc3-2b73b61767ec": {
       "attrs": {
        "height": 0.8,
        "width": 0.8,
        "x": 0.1,
        "y": 0.1
       },
       "content": {
        "cell": "6ba9e9a8-7630-4e7f-ac0d-54ce118d0fe4",
        "part": "whole"
       },
       "id": "a62f081d-c29f-4394-afc3-2b73b61767ec"
      }
     }
    },
    "141638ab-d504-4d1c-8578-07f7c7cd6683": {
     "id": "141638ab-d504-4d1c-8578-07f7c7cd6683",
     "prev": "09f8fb7d-0add-4755-972a-92e9a9e81afd",
     "regions": {
      "0a50be66-172a-43a7-a32d-26fe626a709f": {
       "attrs": {
        "height": 0.8,
        "width": 0.8,
        "x": 0.1,
        "y": 0.1
       },
       "content": {
        "cell": "29138299-e87e-42cc-b1bb-d2ba5937a8f3",
        "part": "whole"
       },
       "id": "0a50be66-172a-43a7-a32d-26fe626a709f"
      }
     }
    },
    "5c88da74-6178-4574-b4f5-4cb29893faf4": {
     "id": "5c88da74-6178-4574-b4f5-4cb29893faf4",
     "prev": "cc09ba34-db3c-4865-b0c1-d911029cec76",
     "regions": {
      "bf280ea9-67c2-4d15-abc9-b28a82a4b40d": {
       "attrs": {
        "height": 0.8,
        "width": 0.8,
        "x": 0.1,
        "y": 0.1
       },
       "content": {
        "cell": "fd0fa52d-8a26-49dd-bdb1-26c29b1369c2",
        "part": "whole"
       },
       "id": "bf280ea9-67c2-4d15-abc9-b28a82a4b40d"
      }
     }
    },
    "63ff13f9-9f10-4163-a8b1-5355fc5c664a": {
     "id": "63ff13f9-9f10-4163-a8b1-5355fc5c664a",
     "prev": "81d7b559-8991-45af-894e-dfd69bbb09d7",
     "regions": {
      "ee58d10e-ac62-4c24-9034-360c4374d0a6": {
       "attrs": {
        "height": 0.8,
        "width": 0.8,
        "x": 0.1,
        "y": 0.1
       },
       "content": {
        "cell": "10fccca4-5b41-445d-b28b-2ca1af2b03cb",
        "part": "whole"
       },
       "id": "ee58d10e-ac62-4c24-9034-360c4374d0a6"
      }
     }
    },
    "79f341ae-c49d-4e18-a7d6-ba7432d995cb": {
     "id": "79f341ae-c49d-4e18-a7d6-ba7432d995cb",
     "prev": "9e679fcb-85f4-4a20-a2fb-015dccc79989",
     "regions": {
      "da52e876-3cbb-42ae-8b52-60a859a0e228": {
       "attrs": {
        "height": 0.8,
        "width": 0.8,
        "x": 0.1,
        "y": 0.1
       },
       "content": {
        "cell": "62e04f9d-428f-4cc6-bf8b-f11e8cd89410",
        "part": "whole"
       },
       "id": "da52e876-3cbb-42ae-8b52-60a859a0e228"
      }
     }
    },
    "81d7b559-8991-45af-894e-dfd69bbb09d7": {
     "id": "81d7b559-8991-45af-894e-dfd69bbb09d7",
     "prev": "141638ab-d504-4d1c-8578-07f7c7cd6683",
     "regions": {
      "f9d937ef-329a-4413-a164-6a5d85b2280f": {
       "attrs": {
        "height": 0.8,
        "width": 0.8,
        "x": 0.1,
        "y": 0.1
       },
       "content": {
        "cell": "86bddc39-48cd-48d2-87e0-e060d9225af8",
        "part": "whole"
       },
       "id": "f9d937ef-329a-4413-a164-6a5d85b2280f"
      }
     }
    },
    "8da0566f-d3a7-45d5-89a8-1fb807a1165f": {
     "id": "8da0566f-d3a7-45d5-89a8-1fb807a1165f",
     "prev": null,
     "regions": {
      "0b67f878-7be6-4315-85ab-f66cd74687c1": {
       "attrs": {
        "height": 0.8,
        "width": 0.8,
        "x": 0.1,
        "y": 0.1
       },
       "content": {
        "cell": "a441f688-7cc5-41da-9f66-3463f8fde150",
        "part": "whole"
       },
       "id": "0b67f878-7be6-4315-85ab-f66cd74687c1"
      }
     }
    },
    "91b655f1-be33-4c49-9b6b-cb622d8a5ba7": {
     "id": "91b655f1-be33-4c49-9b6b-cb622d8a5ba7",
     "prev": "b7c7bfd1-b8d2-400d-8e3c-9bc2952251e2",
     "regions": {
      "8071232c-2d0b-42db-84b8-d4ee715daa3e": {
       "attrs": {
        "height": 0.8,
        "width": 0.8,
        "x": 0.1,
        "y": 0.1
       },
       "content": {
        "cell": "d715dca2-2e4b-4e86-92e5-3435a0321932",
        "part": "whole"
       },
       "id": "8071232c-2d0b-42db-84b8-d4ee715daa3e"
      }
     }
    },
    "9e679fcb-85f4-4a20-a2fb-015dccc79989": {
     "id": "9e679fcb-85f4-4a20-a2fb-015dccc79989",
     "prev": "a81f2487-fdfc-41d3-9d1c-508f35667bbf",
     "regions": {
      "f074c497-2121-4ce9-b184-8128f6224622": {
       "attrs": {
        "height": 0.8,
        "width": 0.8,
        "x": 0.1,
        "y": 0.1
       },
       "content": {
        "cell": "dcaac5de-8354-4a26-ab39-ec6dc6187bc5",
        "part": "whole"
       },
       "id": "f074c497-2121-4ce9-b184-8128f6224622"
      }
     }
    },
    "a81f2487-fdfc-41d3-9d1c-508f35667bbf": {
     "id": "a81f2487-fdfc-41d3-9d1c-508f35667bbf",
     "prev": "a940a9e3-bcf4-417e-9afc-ef99b978f7e9",
     "regions": {
      "d5d755bc-9b22-49a9-8fde-6149c760733f": {
       "attrs": {
        "height": 0.8,
        "width": 0.8,
        "x": 0.1,
        "y": 0.1
       },
       "content": {
        "cell": "b05fca05-32ec-41ae-ae37-37eea542e1c9",
        "part": "whole"
       },
       "id": "d5d755bc-9b22-49a9-8fde-6149c760733f"
      }
     }
    },
    "a940a9e3-bcf4-417e-9afc-ef99b978f7e9": {
     "id": "a940a9e3-bcf4-417e-9afc-ef99b978f7e9",
     "prev": "5c88da74-6178-4574-b4f5-4cb29893faf4",
     "regions": {
      "4e51dd4e-f207-4086-b77a-dc675c48fa42": {
       "attrs": {
        "height": 0.8,
        "width": 0.8,
        "x": 0.1,
        "y": 0.1
       },
       "content": {
        "cell": "8f7db978-ac85-417e-8eb3-21717ff8bd79",
        "part": "whole"
       },
       "id": "4e51dd4e-f207-4086-b77a-dc675c48fa42"
      }
     }
    },
    "a9eed61c-88ca-4e22-bc7d-8d7c21ae5633": {
     "id": "a9eed61c-88ca-4e22-bc7d-8d7c21ae5633",
     "prev": "8da0566f-d3a7-45d5-89a8-1fb807a1165f",
     "regions": {
      "b8c4fc60-a0bb-4baf-92a2-79612e1df8c5": {
       "attrs": {
        "height": 0.8,
        "width": 0.8,
        "x": 0.1,
        "y": 0.1
       },
       "content": {
        "cell": "f9d2149b-dbdf-4f45-b284-c3f933c11d93",
        "part": "whole"
       },
       "id": "b8c4fc60-a0bb-4baf-92a2-79612e1df8c5"
      }
     }
    },
    "adc40744-02db-4e7c-9cb4-4290ed60b878": {
     "id": "adc40744-02db-4e7c-9cb4-4290ed60b878",
     "prev": "d60d11a2-a102-479b-aea5-72895851639d",
     "regions": {
      "78dacac7-3ccc-44dd-9b4c-0b3eb3d2efb4": {
       "attrs": {
        "height": 0.8,
        "width": 0.8,
        "x": 0.1,
        "y": 0.1
       },
       "content": {
        "cell": "e42c068f-0ec4-4321-83e5-a1664889a1f4",
        "part": "whole"
       },
       "id": "78dacac7-3ccc-44dd-9b4c-0b3eb3d2efb4"
      }
     }
    },
    "b5671042-5485-43b7-9d2d-bfd493a7a4e3": {
     "id": "b5671042-5485-43b7-9d2d-bfd493a7a4e3",
     "prev": "a9eed61c-88ca-4e22-bc7d-8d7c21ae5633",
     "regions": {
      "5c36a2d8-cc01-452d-9896-4a35c9e9a64f": {
       "attrs": {
        "height": 0.8,
        "width": 0.8,
        "x": 0.1,
        "y": 0.1
       },
       "content": {
        "cell": "da83eb7f-d564-4bd7-bb40-51d31af26393",
        "part": "whole"
       },
       "id": "5c36a2d8-cc01-452d-9896-4a35c9e9a64f"
      }
     }
    },
    "b7c7bfd1-b8d2-400d-8e3c-9bc2952251e2": {
     "id": "b7c7bfd1-b8d2-400d-8e3c-9bc2952251e2",
     "prev": "79f341ae-c49d-4e18-a7d6-ba7432d995cb",
     "regions": {
      "905a675a-f6f9-44d7-b1bb-d431469dc3f7": {
       "attrs": {
        "height": 0.8,
        "width": 0.8,
        "x": 0.1,
        "y": 0.1
       },
       "content": {
        "cell": "227eff32-a574-4a41-83dd-8eda8358b0e7",
        "part": "whole"
       },
       "id": "905a675a-f6f9-44d7-b1bb-d431469dc3f7"
      }
     }
    },
    "cc09ba34-db3c-4865-b0c1-d911029cec76": {
     "id": "cc09ba34-db3c-4865-b0c1-d911029cec76",
     "prev": "ec655c1f-534c-47e5-a684-9481a26e81ba",
     "regions": {
      "15069714-ef24-4721-957e-ba3275f9188f": {
       "attrs": {
        "height": 0.8,
        "width": 0.8,
        "x": 0.1,
        "y": 0.1
       },
       "content": {
        "cell": "ec8f861f-4ce7-4caf-8ba2-9f244ab8a509",
        "part": "whole"
       },
       "id": "15069714-ef24-4721-957e-ba3275f9188f"
      }
     }
    },
    "d60d11a2-a102-479b-aea5-72895851639d": {
     "id": "d60d11a2-a102-479b-aea5-72895851639d",
     "prev": "63ff13f9-9f10-4163-a8b1-5355fc5c664a",
     "regions": {
      "381ec27a-d5cf-48bb-a5d3-f8fafa6d3304": {
       "attrs": {
        "height": 0.8,
        "width": 0.8,
        "x": 0.1,
        "y": 0.1
       },
       "content": {
        "cell": "34594990-2fbf-43b1-90ce-7716b5b236b4",
        "part": "whole"
       },
       "id": "381ec27a-d5cf-48bb-a5d3-f8fafa6d3304"
      }
     }
    },
    "ec655c1f-534c-47e5-a684-9481a26e81ba": {
     "id": "ec655c1f-534c-47e5-a684-9481a26e81ba",
     "prev": "adc40744-02db-4e7c-9cb4-4290ed60b878",
     "regions": {
      "e710e642-0d74-49a3-b66d-e5da92524acb": {
       "attrs": {
        "height": 0.8,
        "width": 0.8,
        "x": 0.1,
        "y": 0.1
       },
       "content": {
        "cell": "7a328a93-8ecd-49ca-a6b2-5496e873a107",
        "part": "whole"
       },
       "id": "e710e642-0d74-49a3-b66d-e5da92524acb"
      }
     }
    }
   },
   "themes": {}
  }
 },
 "nbformat": 4,
 "nbformat_minor": 1
}
