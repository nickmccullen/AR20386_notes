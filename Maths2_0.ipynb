{
 "cells": [
  {
   "cell_type": "markdown",
   "metadata": {},
   "source": [
    "# How to Study this Unit\n",
    "\n",
    "This is a _flipped_ course. The teaching of the material is online **and must be done by you first** and your learning via doing examples follows on from this in weekly workshops.\n",
    "\n",
    "## 1. Notes\n",
    "\n",
    "-   Read relevant sections of this book and have a go at exercises in while watching the lectures.\n",
    "-   Do problem sets using the examples in these notes to guide you.\n",
    "\n",
    "\n",
    "## 2. Online Lectures \n",
    "\n",
    "-   You **must** have done the lectures and examples **before** the weekly In-person Workshop\n",
    "-   Lectures are for inspiration and context\n",
    "-   Make notes as you go along\n",
    "\n",
    "\n",
    "## 3. Tutorial Workshops\n",
    "\n",
    "- Two-hour hands-on computer-based workshop.\n",
    "- Expanding on the online theoretical lecture material, using computational ways of solving and investigating the mathematics.\n",
    "- Chance to work on the interactive quizzes as practice and for live feedback.\n",
    "- Additionally, your chance to ask questions and get feedback and support.\n",
    "- These are the most important part of studying the maths for this unit.\n",
    "- Maths is a *skill* that you only learn by continual practice, so these are **essential and compulsory** to do well in this unit and other subjects that rely on it in this and future years.\n",
    "\n",
    "\n",
    "## 4. Interactive quizzes\n",
    "-   There are online quizzes to practice and test your understanding and gain continual feedback. \n",
    "\n",
    "<!--\n",
    "There will be revision classes towards the end of the unit, summarising\n",
    "the various topics and what is considered either  \n",
    "**Basic**\n",
    "material: need to know to pass;  \n",
    "**Intermediate** material:\n",
    "what is needed to gain reasonable marks and a decent understanding and\n",
    "ability to solve problems;  \n",
    "**Advanced** material: for\n",
    "deeper understanding and the chance to gain top marks and go far with\n",
    "Engineering!-->"
   ]
  }
 ],
 "metadata": {
  "anaconda-cloud": {},
  "kernelspec": {
   "display_name": "Python [conda env:base] *",
   "language": "python",
   "name": "conda-base-py"
  },
  "language_info": {
   "codemirror_mode": {
    "name": "ipython",
    "version": 3
   },
   "file_extension": ".py",
   "mimetype": "text/x-python",
   "name": "python",
   "nbconvert_exporter": "python",
   "pygments_lexer": "ipython3",
   "version": "3.12.7"
  }
 },
 "nbformat": 4,
 "nbformat_minor": 4
}
