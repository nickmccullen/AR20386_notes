{
 "cells": [
  {
   "cell_type": "markdown",
   "metadata": {
    "collapsed": true
   },
   "source": [
    "$$\n",
    "\\def\\nn{\\nonumber}\n",
    "\\def\\PD#1#2#3{\\dfrac{\\partial^{#1} #2}{\\partial #3^{#1}}}\n",
    "\\def\\eq#1{\\begin{align}#1\\end{align}}\n",
    "\\def\\eqnum#1{\\begin{align}#1\\end{align}}\n",
    "\\def\\dd{\\text{d}}\n",
    "\\def\\DE#1#2#3{\\dfrac{\\dd^{#1} #2}{\\dd #3^{#1}}}\n",
    "$$"
   ]
  },
  {
   "cell_type": "markdown",
   "metadata": {},
   "source": [
    "# Approximating using Polynomial Series"
   ]
  },
  {
   "cell_type": "markdown",
   "metadata": {},
   "source": [
    "Often integration cannot be carried out directly.\n",
    "For example, some integrals can not be written in terms of known functions.\n",
    "One example of this is the integral:  \n",
    "$$\n",
    "I = \\int e^{-x^2}\\dd x\n",
    "$$\n",
    "\n",
    "which has the same form as the area under a normal distribution and is important when calculating probabilities of random events.\n",
    "\n",
    "#### Exercise: Try integrating this function using substitution then integration by parts (hint: you can't, you'll go round in circles!)\n",
    "\n",
    "This is a common challenge in engineering problems, where a direct solution does not exist.\n",
    "\n",
    "One way of approximating a quantity is to write it as a series of terms, each one adding a little more accuracy, before truncating the series at some desirable level.\n",
    "\n",
    "## Power Series Expansion\n",
    "\n",
    "It is possible to expand functions as a series of powers, such that:\n",
    "$\\begin{equation}\n",
    "f(x) = a_0 + a_1 x + a_2 x^2 + a_3 x^3 + a_4 x^4 + a_5 x^5 + \\ldots\n",
    "\\end{equation}$  \n",
    "where each term adds a bit more accuracy to the approximation and the coefficients $a_n$ are obtained by repeated differentiation and setting $x=0$:  \n",
    "$\\quad$\n",
    "\\begin{align*}\n",
    "f(0) &= a_0 + a_1 (0)  + a_2 (0)^2 + a_3 (0)^3 + \\ldots\\\\\n",
    "\\therefore \\boxed{a_0 = f(0)}&\\\\\n",
    "\\\\\n",
    "\\frac{\\dd f(x)}{\\dd x} &=  a_1 + 2 a_2 x + 3 a_3 x^2 + 4 a_4 x^3 + 5 a_5 x^4 + \\ldots\\\\\n",
    "\\frac{\\dd f(0)}{\\dd x} &=  a_1 + 2 a_2 (0) + 3 a_3 (0)^2 + \\ldots\\\\\n",
    "\\therefore \\boxed{a_1  = \\left[\\frac{\\dd f(x)}{\\dd x}\\right]_{x=0}}&\\\\\n",
    "\\\\\n",
    "\\frac{\\dd^2 f(x)}{\\dd x^2} &=  2 a_2  + 3! a_3 x + (4)(3) a_4 x^2 + (5)(4) a_5 x^3 + \\ldots\\\\\n",
    "\\frac{\\dd^2 f(0)}{\\dd x^2} &=  2 a_2  + 3! a_3 (0) + (4)(3) a_4 (0)^2 + (5)(4) a_5 (0)^3 + \\ldots\\\\\n",
    "\\therefore \\boxed{a_2  = \\frac{1}{2}\\left[\\frac{\\dd^2 f(x)}{\\dd x^2}\\right]_{x=0}}&\\\\\n",
    "\\\\\n",
    "\\frac{\\dd^3 f(x)}{\\dd x^3} &=   3! a_3  + 4! a_4 x + (5)(4)(3) a_5 x^2 + \\ldots\\\\\n",
    "\\frac{\\dd^3 f(0)}{\\dd x^3} &=   3! a_3  + 4! a_4 (0) + (5)(4)(3) a_5 (0)^2 + \\ldots\\\\\n",
    "\\therefore \\boxed{a_3 = \\frac{1}{3!}\\left[\\frac{\\dd^3 f(x)}{\\dd x^3}\\right]_{x=0}}&\\\\\n",
    "\\end{align*}\n",
    "and so on.  \n",
    "\n",
    "Note that not all series converge.   \n",
    "For example $\\dfrac{1}{1+x} = 1 - x + x^2 - x^3 + \\ldots$ only works for $-1\\leq x \\leq 1$."
   ]
  },
  {
   "cell_type": "markdown",
   "metadata": {},
   "source": [
    "### Application: Integrating Non-Integrable Functions\n",
    "\n",
    "Some integrals cannot be evaluated analytically. However, they can be approximated using a power series. \n",
    "Use the expansion for $e^\\theta$ to four terms and integrate in order to obtain an approximation to the following integral to 3 decimal places:  \n",
    "$$\\displaystyle I = \\int_0^1 e^{-z^2/2} ~\\dd z.$$\n",
    "\n",
    "\n",
    "$\\begin{align*}\n",
    "e^\\theta &\\approx 1 + \\theta + \\dfrac{\\theta^2}{2!} + \\dfrac{\\theta^3}{3!} +\\ldots\\\\\n",
    "\\\\\n",
    "\\theta=-z^2/2{:}\\\\\n",
    "e^{-z^2/2} &\\approx 1 - \\dfrac{z^2}{2} + \\dfrac{z^4}{2^2\\times2!} - \\dfrac{z^6}{2^3\\times 3!} +\\ldots\\quad\\\\\n",
    " &= 1   - \\frac{z^{2}}{2} + \\frac{z^{4}}{8} - \\frac{z^{6}}{48} + \\ldots\n",
    "\\end{align*}$\n",
    "\n",
    "Integrating:\n",
    "\n",
    "$\\begin{align*}\n",
    "\\int_0^1 e^{-z^2/2} ~\\dd z &\\approx \\int_0^1 1 ~\\dd z - \\int_0^1 \\dfrac{z^2}{2} ~\\dd z + \\int_0^1 \\dfrac{z^4}{8} ~\\dd z - \\int_0^1 \\dfrac{z^6}{48} ~\\dd z + \\ldots\\\\\n",
    "%\n",
    "&= \\left[ x -  \\dfrac{x^3}{6}  +  \\dfrac{x^5}{40}  -  \\dfrac{x^7}{336} + \\ldots\\right]_0^1  \\\\ \n",
    "&= 1 -  \\dfrac{1}{6}  +  \\dfrac{1}{40}  -  \\dfrac{1}{336} + \\ldots\\\\\n",
    "&=0.855\n",
    "\\end{align*}$\n",
    "\n",
    "How many terms would be needed to obtain the approximation to 2 d.p.?\n",
    "\n",
    "\n",
    "$0.855\\approx0.86; \\quad 1 -  \\dfrac{1}{6}  +  \\dfrac{1}{40}  =0.858\\approx0.86; \\quad 1 -  \\dfrac{1}{6}   =0.833\\approx0.83$\n",
    "\n",
    "So the fourth term makes no difference and only three terms are needed."
   ]
  }
 ],
 "metadata": {
  "kernelspec": {
   "display_name": "Python 3 (ipykernel)",
   "language": "python",
   "name": "python3"
  },
  "language_info": {
   "codemirror_mode": {
    "name": "ipython",
    "version": 3
   },
   "file_extension": ".py",
   "mimetype": "text/x-python",
   "name": "python",
   "nbconvert_exporter": "python",
   "pygments_lexer": "ipython3",
   "version": "3.11.9"
  }
 },
 "nbformat": 4,
 "nbformat_minor": 1
}
