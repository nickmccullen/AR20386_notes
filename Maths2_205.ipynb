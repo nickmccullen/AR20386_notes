{
 "cells": [
  {
   "cell_type": "markdown",
   "metadata": {},
   "source": [
    "$$\n",
    "\\def\\nn{\\nonumber}\n",
    "\\def\\PD#1#2#3{\\dfrac{\\partial^{#1} #2}{\\partial #3^{#1}}}\n",
    "\\def\\eq#1{\\begin{align}#1\\end{align}}\n",
    "\\def\\eqnum#1{\\begin{align}#1\\end{align}}\n",
    "\\def\\dd{\\text{d}}\n",
    "\\def\\DE#1#2#3{\\dfrac{\\dd^{#1} #2}{\\dd #3^{#1}}}\n",
    "\\def\\bmaths#1{\\boxed{#1}}\n",
    "\\def\\color#1{}\n",
    "\\def\\excolor{}\n",
    "\\def\\large{}\n",
    "\\def\\black{}\n",
    "$$"
   ]
  },
  {
   "cell_type": "markdown",
   "metadata": {},
   "source": [
    "# Complex Numbers"
   ]
  },
  {
   "cell_type": "markdown",
   "metadata": {},
   "source": [
    "## Aims\n",
    "\n",
    "1. Manipulate imaginary and complex numbers; including being able to:   \n",
    "    (i) obtain complex numbers from a quadratic equation,  \n",
    "    (ii) work with and converting between Cartesian, polar and exponential forms,  \n",
    "    (iii) perform complex arithmetic using the various forms and their\n",
    "    conjugates.\n",
    "2. Convert between complex exponentials and sinusoidal functions.\n",
    "3. Differentiate complex exponentials."
   ]
  },
  {
   "cell_type": "markdown",
   "metadata": {},
   "source": [
    "Introduction\n",
    "------------\n",
    "\n",
    "The equation $y=e^{Bx}$ can be used to solve first order equations like $y'=-ky$.\n",
    "But for second order equations such as $y''=-ky$ using the same trial solution $y''=B^2e^{Bx}$ and substituting: $B^2e^{Bx}=-ke^{Bx}$, so $B^2=-k$. \n",
    "\n",
    "But the square (or $4^{th}, 6^{th}$, $\\ldots$ power) of any number, negative or positive is **always** positive.\n",
    "So no *\"real\"* number (0, negative, rational or irrational etc.) can be squared to give a negative number. \n",
    "\n",
    "Hence $B$ cannot be any *real* number (positive or negative)."
   ]
  },
  {
   "cell_type": "markdown",
   "metadata": {},
   "source": [
    "Imaginary Numbers\n",
    "-----------------\n",
    "\n",
    "Define this as a new *imaginary number* $i$ such that $i^2=-1$, and call multiples of $i$ *“imaginary numbers”*. \n",
    "\n",
    "-   The inverse is $i \\equiv \\sqrt{-1}$, so replace $\\sqrt{-1}$ with $i$\n",
    "    wherever you see it.\n",
    "    \n",
    "-   Use it in place of a real number, but whenever we square it to get $i^2=-1$ we can go back to real numbers. E.g. if $B=i\\sqrt{k}$ then $B^2=-k$.\n",
    "\n",
    "All calculations involving ${i}$ use the same rules of algebra, calculus\n",
    "etc. as usual, except that $i^2$ is replaced by $-1$. Calculations can\n",
    "often be a lot simpler using $i$, as you will see.\n",
    "\n",
    "#### Note:\n",
    "\n",
    "Engineers often use $j$ to avoid confusion with electrical current\n",
    "    ($I$), but these notes will stick with using $i$."
   ]
  },
  {
   "cell_type": "markdown",
   "metadata": {},
   "source": [
    "Solving Quadratics\n",
    "------------------\n",
    "\n",
    "Quadratic equations of the form $\\eq{az^2 + bz + c=0}$ can be solved using the formula:\n",
    "\n",
    "$$\n",
    "\\eqnum{z = \\frac{-b\\pm \\sqrt{b^2-4ac}}{2a}.}\n",
    "$$"
   ]
  },
  {
   "cell_type": "markdown",
   "metadata": {},
   "source": [
    "---\n",
    "\n",
    "#### Example: \n",
    "\n",
    "Find the roots of $z^2 + 2z + 5 = 0$\n",
    "\n",
    "$$\\eq{z &= \\dfrac{-(2)\\pm\\sqrt{{(2)^2 - 4(1)(5)}}}{2(1)}\\\\\n",
    "&= \\dfrac{-2\\pm\\sqrt{{-16}}}{2}\\\\\n",
    "&= \\dfrac{-2\\pm\\sqrt{{(16)(-1)}}}{2}\\\\\n",
    "&= \\dfrac{-2\\pm\\sqrt{{16}}\\sqrt{{-1}}}{2}\\\\\n",
    "&= \\dfrac{-2\\pm{4}\\sqrt{{-1}}}{2}\\\\\n",
    "&= -1\\pm2\\sqrt{-1} = -1\\pm2i\n",
    "}$$\n",
    "\n",
    "---"
   ]
  },
  {
   "cell_type": "markdown",
   "metadata": {},
   "source": [
    "Complex Numbers\n",
    "---------------\n",
    "\n",
    "\n",
    "A **complex number** is a number with a real part and an\n",
    "imaginary part.\n",
    "Thus the *real* part of $z=7+3i$ is $7$ and the\n",
    "*imaginary* part is $3$.\n",
    "\n",
    "This is written:\n",
    "\n",
    "$$\\begin{array}{l c r}\n",
    "Re ( 7 + 3i ) = 7\\\\\n",
    "Im ( 7 + 3i ) = 3\n",
    "\\end{array}$$"
   ]
  },
  {
   "cell_type": "markdown",
   "metadata": {},
   "source": [
    "Complex Arithmetic\n",
    "------------------\n",
    "\n",
    "### Addition and Subtraction\n",
    "\n",
    "Simply add or subtract the term of the same type\n",
    "\n",
    "---\n",
    "\n",
    "#### Example: $a=3+2i, b=2+i$\n",
    "\n",
    "{$a+b$}\n",
    "\n",
    "$a + b = 3 + 2i + 2 + i = (3 + 2) + (2i + i) = 5 + 3i$\n",
    "\n",
    "{$a-b$}\n",
    "\n",
    "$a - b = (3 + 2i) - (2 + i) = (3 - 2) + (2i - i) = 1 + i$}\n",
    "\n",
    "---\n",
    "\n",
    "### Multiplication\n",
    "\n",
    "Multiply out as you would for an algebraic expression\n",
    "\n",
    "---\n",
    "\n",
    "#### Example: $(3 + 2i)(2 + i)$\n",
    "\n",
    "$$\\eq{\n",
    "(3 + 2i) (2 + i) &= (3)(2) + (3)(i) + (2i)(2) + (2i)(i)\\\\\n",
    "&= 6 + 7i + (-1)2\\\\\n",
    "&= 4 + 7i\n",
    "}$$\n",
    "\n",
    "---"
   ]
  },
  {
   "cell_type": "markdown",
   "metadata": {},
   "source": [
    "**Conjugate Complex Numbers:**\n",
    "------------------------------\n",
    "\n",
    "The *conjugate* ${\\overline{z}}$ of a complex number ${z}$\n",
    "is the same except for a sign change on the imaginary part. That is:\n",
    "${z = a {+} bi}$ and ${\\overline{z} = a {-} bi}$ are conjugate.\n",
    "Multiplying the two together gives a real answer:\n",
    "\n",
    "$(a+bi)(a-bi) = {{\\color{\\excolor}\\large a^2 - b^2i^2 + abi - abi\\color{black}}} = a^2+b^2$"
   ]
  },
  {
   "cell_type": "markdown",
   "metadata": {},
   "source": [
    "### Dividing by Complex Numbers\n",
    "\n",
    "Need to convert the denominator into a real number: so multiply bottom\n",
    "and top by the complex conjugate of the denominator.\n",
    "\n",
    "$$\\eq{\n",
    "\\dfrac{z_1}{z_2} &=\\dfrac{z_1}{z_2}\\dfrac{\\bar{z_2}}{\\bar{z_2}}\\\\\n",
    "&=\\dfrac{z_1}{(c+di)}\\dfrac{\\bar{z_2}}{(c-di)}\\\\\n",
    "&=\\dfrac{z_1\\bar{z_2}}{c^2+d^2}\n",
    "}$$\n",
    "\n",
    "---\n",
    "\n",
    "#### Example: $\\dfrac{2-4i}{4+2i}$\n",
    "\n",
    "$=\\dfrac{(2-4i)}{(4+2i)}\\dfrac{\\bmaths{(4-2i)}}{\\bmaths{(4-2i)}}$\n",
    "$=\\dfrac{{8-20i-8}}{{16+4}}$\n",
    "$={-i}$\n",
    "\n",
    "\n",
    "---"
   ]
  },
  {
   "cell_type": "markdown",
   "metadata": {},
   "source": [
    "Argand Diagrams\n",
    "---------------\n",
    "\n",
    "Complex numbers can be represented graphically as vectors using an ***Argand Diagram***.\n",
    "\n",
    "-   The *real* part is the ${x}$ coordinate\n",
    "\n",
    "-   The *imaginary* part is the ${y}$ coordinate.\n",
    "\n",
    "<img width=600 src='Figures/arganddiagram1.png'>"
   ]
  },
  {
   "cell_type": "markdown",
   "metadata": {},
   "source": [
    "Polar Form of Complex Numbers\n",
    "-----------------------------\n",
    "\n",
    "A complex number ${z = x + iy}$ can be written in polar\n",
    "form.\n",
    "\n",
    "$\\eq{x &= r \\cos(\\phi)\\\\\n",
    "y &= r \\sin(\\phi)\\\\\n",
    "z &= x + iy = r(\\cos(\\phi) + i\\sin(\\phi))\n",
    "}$\n",
    "\n",
    "\n",
    "<span>$r^2 = x^2 + y^2$</span>,\n",
    "\n",
    "<span>$r = \\sqrt{(Re(z))^2 + (Im(z))^2}$</span>\n",
    "\n",
    "<img width=200 src='Figures/argand2.png'>\n",
    "\n",
    "${r = |z|}$ is called the *“modulus”* of ${z}$ and\n",
    "${\\phi = \\arg(z)}$ is called the *“argument”* of ${z}$."
   ]
  },
  {
   "cell_type": "markdown",
   "metadata": {},
   "source": [
    "### Calculating angles\n",
    "\n",
    "<img width=400 src='Figures/angle1.png'>\n",
    "\n",
    "$\\phi = \\tan^{-1}\\left(\\dfrac{|y|}{|x|}\\right)$\n",
    "\n",
    "<br>\n",
    "<img width=400 src='Figures/angle2.png'>\n",
    "\n",
    "$\\phi = \\pi  - \\tan^{-1}\\left(\\dfrac{|y|}{|x|}\\right)$\n",
    "\n",
    "<br>\n",
    "<img width=400 src='Figures/angle3.png'>\n",
    "\n",
    "$\\phi = \\pi  + \\tan^{-1}\\left(\\dfrac{|y|}{|x|}\\right)$\n",
    "\n",
    "<br>\n",
    "<img width=400 src='Figures/angle4.png'>\n",
    "\n",
    "$\\phi = 2\\pi - \\tan^{-1}\\left(\\dfrac{|y|}{|x|}\\right)$\n"
   ]
  },
  {
   "cell_type": "markdown",
   "metadata": {},
   "source": [
    "Exponential Form of Complex Numbers\n",
    "-------------------------------\n",
    "\n",
    "The exponential form of a complex number is \n",
    "\n",
    "$$z = r e^{i\\phi}$$\n",
    "\n",
    "* To show where this comes from we need power series expansions...\n"
   ]
  },
  {
   "cell_type": "markdown",
   "metadata": {},
   "source": [
    "## Power Series (Taylor or Maclaurin Series)\n",
    "### (See extra notes for derivation and other useful application)\n",
    "\n",
    "Functions can be expanded as a series of power terms: where (at $x=0$):\n",
    "\n",
    "$\\eq{\n",
    "f(x) = a_0 + a_1 x + a_2 x^2 + a_3 x^3 + a_4 x^4 + a_5 x^5 + \\ldots}$\n",
    "\n",
    "where $a_n$ are scaling constants for the contribution of each power term (at $x=0$):\n",
    "\n",
    "$$\\eq{\n",
    "a_0 = f(x=0)\\quad\n",
    "a_1 = \\left[ \\dfrac{\\mathrm{d} f}{\\mathrm{d} x} \\right]_{x=0}\n",
    "a_2 = \\dfrac{1}{2!}\\left[\\dfrac{\\mathrm{d}^2 f}{\\mathrm{d} x^2}\\right]_{x=0} \n",
    "a_3 = \\dfrac{1}{3!}\\left[\\dfrac{\\mathrm{d}^3 f}{\\mathrm{d} x^3}\\right]_{x=0} \n",
    "a_4 = \\dfrac{1}{4!}\\left[\\dfrac{\\mathrm{d}^4 f}{\\mathrm{d} x^4}\\right]_{x=0} \n",
    "\\dots\n",
    "}$$\n",
    "\n",
    "or \n",
    "\n",
    "$$a_n=\\dfrac{1}{n!}\\dfrac{\\mathrm{d}^n f}{\\mathrm{d} x^n}$$\n",
    "\n",
    "* Coefficients are given by repeatedly differentiating the function."
   ]
  },
  {
   "cell_type": "markdown",
   "metadata": {},
   "source": [
    "#### Example: expand ${e^{\\theta}}$ to 6 terms:\n",
    "\n",
    "$$\\eq{\n",
    "a_0&=e^{(0)}=1\\\\\n",
    "\\text{for } a_1:\\quad \\dfrac{\\mathrm{d} (e^\\theta)}{\\mathrm{d} \\theta}     &= {{}e^\\theta}\\\\\n",
    "\\text{for } a_2:\\quad \\dfrac{\\mathrm{d}^2 (e^\\theta)}{\\mathrm{d} \\theta^2} &= \\dfrac{\\mathrm{d}}{\\mathrm{d} \\theta}\\left\\{\\dfrac{\\mathrm{d} (e^\\theta)}{\\mathrm{d} \\theta}\\right\\} \n",
    "= \\dfrac{\\mathrm{d}}{\\mathrm{d} \\theta}\\left\\{{e^\\theta}\\right\\} \n",
    "= {e^\\theta}\\\\\n",
    "\\text{for } a_3:\\quad\\dfrac{\\mathrm{d}^3 (e^\\theta)}{\\mathrm{d} \\theta^3} &= {e^\\theta}\\\\\n",
    "\\text{for } a_4:\\quad\\dfrac{\\mathrm{d}^4 (e^\\theta)}{\\mathrm{d} \\theta^4} &= {e^\\theta}\\\\\n",
    "\\text{for } a_5:\\quad\\dfrac{\\mathrm{d}^5 (e^\\theta)}{\\mathrm{d} \\theta^5} &= {e^\\theta}}$$\n",
    "\n",
    "Set $\\theta=0$ in each $e^\\theta$ so put $e^0= {1}$:\n",
    "\n",
    "$$\\eq{e^\\theta &= 1 + {}(1)\\theta + \\dfrac{1}{2}{}(1)\\theta^2 + \\dfrac{1}{3!}{}(1)\\theta^3 + \\dfrac{1}{4!}{}(1)\\theta^4 + \\dfrac{1}{5!}{}(1)\\theta^5 + \\ldots\\\\\n",
    " &= 1 + {}\\theta + \\dfrac{1}{2}{}\\theta^2 + \\dfrac{1}{3!}{}\\theta^3 + \\dfrac{1}{4!}{}\\theta^4 + \\dfrac{1}{5!}{}\\theta^5 + \\ldots}$$"
   ]
  },
  {
   "cell_type": "markdown",
   "metadata": {},
   "source": [
    "## Exponential Form of Complex Numbers\n",
    "\n",
    "The Cartesian form of complex numbers is $z=x+iy$.\n",
    "\n",
    "The polar form of complex numbers is obtained using polar coordinates:\n",
    "\n",
    "$$\\eq{x &= r \\cos(\\phi)\\\\\n",
    "y &= r \\sin(\\phi)\\\\\n",
    "z &= x + iy = r(\\cos(\\phi) + i\\sin(\\phi))\n",
    "}$$\n",
    "\n",
    "### Power Series expansion of $\\cos (\\phi)+ i\\sin(\\phi)$\n",
    "\n",
    "The power series expansion of $\\cos(\\phi)$ is:\n",
    "\n",
    "$$\\eq{\n",
    "\\cos(\\phi)&{= 1 - \\dfrac{\\phi^2}{2!} + \\dfrac{\\phi^4}{4!} - \\ldots}\n",
    "}$$\n",
    "\n",
    "The power series expansion of $\\sin(\\phi)$ is:\n",
    "\n",
    "$$\\eq{\n",
    "{\\sin(\\phi)}&{= \\phi - \\dfrac{\\phi^3}{3!} + \\dfrac{\\phi^5}{5!} - \\ldots}\n",
    "}$$\n",
    "\n",
    "Combining these in $\\cos(\\phi)+i\\sin(\\phi)$ results in:\n",
    "\n",
    "$$\\eq{\n",
    "\\cos(\\phi)+i\\sin(\\phi)&=\n",
    "\\left(1 - \\dfrac{\\phi^2}{2!} + \\dfrac{\\phi^4}{4!} + \\ldots\\right)\n",
    "+i\\left(\\phi - \\dfrac{\\phi^3}{3!} + \\dfrac{\\phi^5}{5!} + \\ldots\\right)\\nn\\\\\n",
    "&={ 1  + i\\phi  - \\dfrac{\\phi^2}{2!}  - i\\dfrac{\\phi^3}{3!}  + \\dfrac{\\phi^4}{4!} + i\\dfrac{\\phi^5}{5!}  + \\ldots \\qquad (3)}\n",
    "}$$\n",
    "\n",
    "\n",
    "### Power Series expansion of $e^{i\\phi}$\n",
    "\n",
    "Set $\\theta={i\\phi}$ in the expansion of ${e^\\theta}$ and replace each $i^2=-1$.\n",
    "\n",
    "$$\\eq{e^\\theta &= 1 + \\theta + \\dfrac{\\theta^2}{2} + \\dfrac{\\theta^3}{3!} + \\dfrac{\\theta^4}{4!} + \\dfrac{\\theta^5}{5!} + \\ldots\\nn\\\\\n",
    "{e^{i\\phi}}\n",
    "&={ 1 + i\\phi + \\dfrac{(i\\phi)^2}{2} + \\dfrac{(i\\phi)^3}{3!} + \\dfrac{(i\\phi)^4}{4!} + \\dfrac{(i\\phi)^5}{5!} + \\ldots}\\nn\\\\\n",
    "&={ 1  + i\\phi  - \\dfrac{\\phi^2}{2}  - i\\dfrac{\\phi^3}{3!}  + \\dfrac{\\phi^4}{4!} + i\\dfrac{\\phi^5}{5!}  + \\ldots \\qquad(4)}\n",
    "}$$\n",
    "\n",
    "The expansions(3) and (4) are the same, so $e^{i\\phi}=\\cos (\\phi)+ i\\sin(\\phi)$."
   ]
  },
  {
   "cell_type": "markdown",
   "metadata": {},
   "source": [
    "- The exponential form of a complex number is: \n",
    "\n",
    "$z = r e^{i\\phi}$\n",
    "\n",
    "\n",
    "- The complex conjugate is:\n",
    "\n",
    "${e^{-i\\phi} = \\cos(\\phi) - i \\sin(\\phi) = x - iy~~~}$"
   ]
  },
  {
   "cell_type": "markdown",
   "metadata": {},
   "source": [
    "### Multiplying Complex Numbers\n",
    "\n",
    "$z_1z_2 = r_1r_2e^{i\\phi_1}e^{i\\phi_2} = r_1r_2e^{i(\\phi_1+\\phi_2)}$: a rotation on the argand diagram.\n",
    "\n",
    "$z\\bar{z} = r^2e^{i\\phi}e^{-i\\phi} = r^2e^{i\\phi-i\\phi} = r^2[e^0=1] = a^2+b^2$"
   ]
  },
  {
   "cell_type": "markdown",
   "metadata": {},
   "source": [
    "### Very Useful Identities\n",
    "\n",
    "$\\cos(\\phi)=\\dfrac{e^{i\\phi} + e^{-i\\phi}}{2}$,\n",
    "\n",
    "$\\sin(\\phi)=\\dfrac{e^{i\\phi} - e^{-i\\phi}}{2i}$\n",
    "\n",
    "---\n",
    "\n",
    "#### Derivation:\n",
    "\n",
    "$e^{i\\phi}+e^{-i\\phi}=[\\cos(\\phi)+i\\sin(\\phi)]+[\\cos(\\phi) - i \\sin(\\phi)]=2\\cos(\\phi).$\n",
    "\n",
    "$e^{i\\phi}-e^{-i\\phi}=[\\cos(\\phi)+i\\sin(\\phi)]-[\\cos(\\phi) - i \\sin(\\phi)]=2i\\sin(\\phi).$\n",
    "\n",
    "---"
   ]
  },
  {
   "cell_type": "markdown",
   "metadata": {},
   "source": [
    "Euler's Identity: The Most Amazing Equation\n",
    "-------------------------\n",
    "\n",
    "What happens when $\\theta=\\pi$ is put into\n",
    "$e^{i \\theta} = \\cos(\\theta) + i \\sin(\\theta)$?\n",
    "\n",
    "$e^{i\\pi} = \\cos(\\pi) + i \\sin(\\pi),$\n",
    "\n",
    "but\n",
    "$\\cos(\\pi) = -1$, and $\\sin(\\pi) = 0$, so\n",
    "\n",
    "$e^{i\\pi} = -1 + 0i$. \n",
    "\n",
    "Or to put it another way:\n",
    "\n",
    "$e^{i \\pi} + 1 = 0$\n",
    "\n",
    "which links five of the most important numbers in\n",
    "maths in one expression!"
   ]
  }
 ],
 "metadata": {
  "anaconda-cloud": {},
  "kernelspec": {
   "display_name": "Python 3",
   "language": "python",
   "name": "python3"
  },
  "language_info": {
   "codemirror_mode": {
    "name": "ipython",
    "version": 3
   },
   "file_extension": ".py",
   "mimetype": "text/x-python",
   "name": "python",
   "nbconvert_exporter": "python",
   "pygments_lexer": "ipython3",
   "version": "3.8.5"
  }
 },
 "nbformat": 4,
 "nbformat_minor": 1
}
