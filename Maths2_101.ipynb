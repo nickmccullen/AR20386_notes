{
 "cells": [
  {
   "cell_type": "markdown",
   "metadata": {
    "nbpresent": {
     "id": "e0ff5d83-0f10-41e2-96f9-063003886ae3"
    }
   },
   "source": [
    "$$\n",
    "\\def\\nn{\\nonumber}\n",
    "\\def\\PD#1#2#3{\\dfrac{\\partial^{#1} #2}{\\partial #3^{#1}}}\n",
    "\\def\\eq#1{\\begin{align}#1\\end{align}}\n",
    "\\def\\eqnum#1{\\begin{align}#1\\end{align}}\n",
    "\\def\\dd{\\text{d}}\n",
    "\\def\\DE#1#2#3{\\dfrac{\\dd^{#1} #2}{\\dd #3^{#1}}}\n",
    "$$\n",
    "\n",
    "\n",
    "# Partial Differentiation"
   ]
  },
  {
   "cell_type": "markdown",
   "metadata": {
    "nbpresent": {
     "id": "0968bba4-f978-41f5-bc12-fe8b4129cb54"
    }
   },
   "source": [
    "## Aims\n",
    "\n",
    "1.  Finding the gradient in a particular (e.g. $x, y$) direction\n",
    "\n",
    "2.  Finding first and second partial derivatives\n",
    "\n",
    "3.  Finding the total derivative\n",
    "\n",
    "4.  Calcuationg small changes and errors"
   ]
  },
  {
   "cell_type": "markdown",
   "metadata": {},
   "source": [
    "## Functions of several variables\n",
    "\n",
    "Most engineering problems have two or more variables.\n",
    "For example in materials:\n",
    "\n",
    "$$\n",
    "\\sigma=K\\left(\\frac{r}{L}\\right)^2\n",
    "$$\n",
    "\n",
    "gives the axial stress $\\sigma$, which varies with the radius of gyration $r$ and length $L$.\n",
    "\n",
    "Problems involving fluids in space often have the three $x,y,z$ variables for spatial dimensions, time $t$ and others such as pressure $P$, temperature $\\theta$, density $\\rho$, ... "
   ]
  },
  {
   "cell_type": "markdown",
   "metadata": {
    "nbpresent": {
     "id": "0968bba4-f978-41f5-bc12-fe8b4129cb54"
    }
   },
   "source": [
    "## Derivatives Using Multiple Variables\n",
    "\n",
    "The height of a roof could be given by a function $z=f(x,y)$, for\n",
    "example: $f(x,y)=\\dfrac{x}{4}-y^2+5$.\n",
    "\n",
    "![](Figures/roof0.png)"
   ]
  },
  {
   "cell_type": "markdown",
   "metadata": {
    "nbpresent": {
     "id": "0d692b63-6972-4cdb-8bad-d455daa3aed5"
    }
   },
   "source": [
    "## Introduction to Partial Derivatives\n",
    "\n",
    "In the roof example above this is like looking at the slope (rate of\n",
    "change of the height) of the roof at any point $(x,y)$, in some given\n",
    "direction."
   ]
  },
  {
   "cell_type": "markdown",
   "metadata": {
    "nbpresent": {
     "id": "e973c81c-5cbb-4025-978f-60aa03aa9c4c"
    }
   },
   "source": [
    "## Notation\n",
    "\n",
    "The partial derivative uses a special symbol $\\partial$ (called _\"curly d\"_ or _\"partial d\"_) to remind us that we are differentiating one variable of several in the function.\n",
    "\n",
    "So when we want to know the slope of a function $z=f(x,y)$ in the $x$ direction, we differentiate only with respect to $x$ (holding $y$ as a constant) and write:\n",
    "\n",
    "$f_x = \\dfrac{\\partial z}{\\partial x}$, where $f_x$ is alternative notation for the gradient of $f$ in the $x$ direction.\n",
    "\n",
    "## Differentiation Rules for Partial Differentiation\n",
    "\n",
    "### Rule 1: To find the variation of one variable with respect to another, we have to hold all the others constant while we do it.\n",
    "\n"
   ]
  },
  {
   "cell_type": "markdown",
   "metadata": {
    "nbpresent": {
     "id": "45c9d6fa-949f-49ee-a618-32ca4b70d606"
    }
   },
   "source": [
    "\n",
    "---\n",
    "\n",
    "#### Example: $f(x,y)=\\dfrac{x}{4}-y^2+5$.\n",
    "\n",
    "#### Gradient in $x$: \n",
    "\n",
    "* Hold $y$ constant: $y^2$ and $5$ are constants and disappear \n",
    "     - $\\dfrac{\\partial f}{\\partial x} = \\dfrac{1}{4}$\n",
    "     \n",
    "#### Gradient in $y$: \n",
    "\n",
    "* Hold $x$ constant: $\\dfrac{x}{4}$ and $5$ are constants and disappear \n",
    "     - $\\dfrac{\\partial f}{\\partial y} = -2y$\n",
    "![](Figures/roof0.png)\n",
    "\n",
    "---"
   ]
  },
  {
   "cell_type": "markdown",
   "metadata": {
    "nbpresent": {
     "id": "0f165874-220f-41b4-b486-be7398dad446"
    }
   },
   "source": [
    "#### All the usual rules of differentiation apply to partial differentiation:\n",
    "\n",
    "### Product rule for $z=f(x,y)g(x,y)$: \n",
    "\n",
    "#### $\\quad\\dfrac{\\partial z}{\\partial x}=f\\dfrac{\\partial g}{\\partial x}+g\\dfrac{\\partial f}{\\partial x}\\quad$ \n",
    "\n",
    "or $\\quad z_x = gf_x + f g_x$"
   ]
  },
  {
   "cell_type": "markdown",
   "metadata": {
    "nbpresent": {
     "id": "02cd5dd7-58e9-4c4e-9f6c-80fd12873cf9"
    }
   },
   "source": [
    "---\n",
    "\n",
    "#### Example: $z = (3x + y)(2x - 4y)$\n",
    "Find $z_x$ and $z_y$\n",
    "\n",
    "$$\n",
    "\\begin{align}\n",
    "\\dfrac{\\partial z}{\\partial x}&=(3x + y)(2) + (2x - 4y)(3)\\\\\n",
    "&=12x - 10y\\\\\n",
    "\\\\\n",
    "\\dfrac{\\partial z}{\\partial y}&=(3x + y)(-4) + (2x - 4y)(1)\\\\\n",
    "&=-10x - 8y\n",
    "\\end{align}\n",
    "$$\n",
    "\n",
    "---"
   ]
  },
  {
   "cell_type": "markdown",
   "metadata": {
    "nbpresent": {
     "id": "2b46251a-35aa-4252-a3d4-c476fcf1452f"
    }
   },
   "source": [
    "### Quotient rule for $z=\\dfrac{f(x,y)}{g(x,y)}$:  \n",
    "\n",
    "#### $\\quad z_x=\\dfrac{gf_x-fg_x}{g^2}$"
   ]
  },
  {
   "cell_type": "markdown",
   "metadata": {
    "nbpresent": {
     "id": "09d446e2-5608-46d6-b1e5-4668cb6064e9"
    }
   },
   "source": [
    "---\n",
    "\n",
    "#### Example: $z=\\dfrac{4x + y}{3x - 4y}$\n",
    "$$\n",
    "\\begin{align}\n",
    "\\dfrac{\\partial z}{\\partial x}&=\\frac{(3x - 4y)(4) - (4x + y)(3)}{(3x - 4y)^2}\\\\\n",
    "&=\\frac{-19y}{(3x - 4y)^2}\\\\\n",
    "\\\\\n",
    "\\\\\n",
    "\\dfrac{\\partial z}{\\partial y}&=\\frac{(3x - 4y)(1) - (4x + y)(-4)}{(3x-4y)^2}\\\\\n",
    "&=\\frac{19x}{(3x-4y)^2}\n",
    "\\end{align}\n",
    "$$\n",
    "\n",
    "---"
   ]
  },
  {
   "cell_type": "markdown",
   "metadata": {
    "nbpresent": {
     "id": "eb5f3ea3-dd95-4e6d-b455-829908466474"
    }
   },
   "source": [
    "### Chain rule for $z=f(g(x,y))$: \n",
    "\n",
    "#### substitute $u=g(x,y)$ \n",
    "\n",
    "#### so $z=f(u)$: \n",
    "\n",
    "#### and then $z_x=z_u u_x$"
   ]
  },
  {
   "cell_type": "markdown",
   "metadata": {
    "nbpresent": {
     "id": "2e730b46-9853-4838-816e-ff8e97da84be"
    }
   },
   "source": [
    "---\n",
    "\n",
    "#### Example: $z = \\cos (3x + y)$\n",
    "\n",
    "Let $u=(3x + y)$,\n",
    "\n",
    "so $z = \\cos(u)$, and\n",
    "\n",
    "$\\dfrac{\\partial z}{\\partial u}=-\\sin(u)$.\n",
    "\n",
    "Now: \n",
    "\n",
    "$$\n",
    "\\begin{align}\n",
    "\\dfrac{\\partial z}{\\partial x}&=\\dfrac{\\partial z}{\\partial u}\\dfrac{\\partial u}{\\partial x}\\\\\n",
    "\\\\\n",
    "&= (-\\sin(u))(3)\\\\\n",
    "\\\\\n",
    "&= -3 \\sin(3x + y)\n",
    "\\end{align}\n",
    "$$\n",
    "\n",
    "---"
   ]
  },
  {
   "cell_type": "markdown",
   "metadata": {
    "nbpresent": {
     "id": "8a8ef26e-2a72-4644-b0d4-cdd076a392f9"
    }
   },
   "source": [
    "## Higher derivatives\n",
    "\n",
    "As with ordinary differentiation the second differentials can also be found.\n",
    "These are often written $z_{xx}$, $z_{yy}$ and even $z_{xy}$ or $z_{yx}$, where the two subscripts mean differentiating with respect to one variable, then the other one:\n",
    "\n",
    "$$\n",
    "\\begin{align}\n",
    "z_{xx} &= \\dfrac{\\partial }{\\partial x}\\left\\{\\dfrac{\\partial z}{\\partial x}\\right\\} = \\dfrac{\\partial^2 z}{\\partial x^2},\\\\\n",
    "z_{yx} &= \\dfrac{\\partial }{\\partial x}\\left\\{\\dfrac{\\partial z}{\\partial y}\\right\\} = \\dfrac{\\partial^2 z}{\\partial x \\partial y},\n",
    "\\end{align}\n",
    "$$\n",
    "\n",
    "and so on.\n",
    "Note that the order of the $x$ and $y$ is different in the two notations.\n",
    "This is because in the subscript notation the differentiations are carried out from left to right, but in the *\"Leibniz\"* notation the they are carried out from right to left.\n",
    "\n",
    "Note that, in the above, there are two first differentials $z_x$ and $z_y$ but four second differentials $z_{xx},$ $z_{yy},$ $z_{xy},$ and $z_{yx}$\n",
    "\n",
    "Also notice that $z_{xy}=z_{yx}$.\n",
    "That is, the order doesn't matter so: $$\\dfrac{\\partial z}{\\partial x}\\left\\{\\dfrac{\\partial z}{\\partial y}\\right\\}=\\dfrac{\\partial z}{\\partial y}\\left\\{\\dfrac{\\partial z}{\\partial x}\\right\\}.$$ "
   ]
  },
  {
   "cell_type": "markdown",
   "metadata": {
    "nbpresent": {
     "id": "9af63a0c-91ea-4777-a406-32dfca672581"
    }
   },
   "source": [
    "## Finding Stationary Points\n",
    "\n",
    "As with ordinary differentials, stationary points of multivariate functions can also be found.\n",
    "\n",
    "Stationary points (minima, maxima, points of inflexion and saddle points) can be found by\n",
    "looking where the partial derivatives are all zero:\n",
    "\n",
    "$$\n",
    "\\dfrac{\\partial f}{\\partial x} = \\dfrac{\\partial f}{\\partial y} = \\dfrac{\\partial f}{\\partial z} = \\cdots = 0\n",
    "$$"
   ]
  },
  {
   "cell_type": "markdown",
   "metadata": {
    "nbpresent": {
     "id": "d16916af-4884-41ee-9518-2bc0f7d5fe24"
    }
   },
   "source": [
    "---\n",
    "\n",
    "#### Example: $z=x^2-xy+y^2$\n",
    "\n",
    "\n",
    "$$\n",
    "\\begin{align}\n",
    "\\dfrac{\\partial z}{\\partial x} &= 2x-y = 0\\\\\n",
    "\\dfrac{\\partial z}{\\partial y} &= -x+2y = 0\n",
    "\\end{align}\n",
    "$$\n",
    "\n",
    "So $x=y=0$ is a turning point.\n",
    "\n",
    "---"
   ]
  },
  {
   "cell_type": "markdown",
   "metadata": {
    "nbpresent": {
     "id": "526cfda3-dccd-44fe-8346-35550f4cd412"
    }
   },
   "source": [
    "To figure out if the stationary point is a minimum, maximum or something else look at the second derivatives.\n",
    "\n",
    "If all second derivatives are positive it is a\n",
    "minimum:\n",
    "$\\dfrac{\\partial^2 f}{\\partial x^2}\\gt 0, \\quad \\dfrac{\\partial^2 f}{\\partial y^2}\\gt 0$\n",
    "\n",
    "<img width=300 src='Figures/surf1.png'>\n",
    "\n",
    "If all second derivatives are negative it is a\n",
    "maximum:\n",
    "$\\dfrac{\\partial^2 f}{\\partial x^2}\\lt 0, \\quad \\dfrac{\\partial^2 f}{\\partial y^2}\\lt 0$\n",
    "\n",
    "<img width=300 src='Figures/surf2.png'>\n",
    "\n",
    "\n",
    "\n",
    "Finding the minima and maxima of functions is the basis of optimisation, which is used in parametric design."
   ]
  },
  {
   "cell_type": "markdown",
   "metadata": {},
   "source": [
    "## The Total Differential\n",
    "\n",
    "The *total* change in $w=f(x,y,z\\dots)$ when varying $x,$ $y$ and $z$ is given by the **_total differential_** $\\text{d} w$ and is the sum of each partial derivative multiplied by the change in the variable.\n",
    "\n",
    "$$\n",
    "\\begin{align}\n",
    "\\dd w &= f_x \\dd x + f_y\\dd y + f_z \\dd z + \\cdots\\nn\\\\\n",
    "&\\equiv \\PD{}{w}{x}\\dd x + \\PD{}{w}{y}\\dd y + \\PD{}{w}{z}\\dd z + \\cdots\n",
    "\\end{align}\n",
    "$$"
   ]
  },
  {
   "cell_type": "markdown",
   "metadata": {},
   "source": [
    "---"
   ]
  },
  {
   "cell_type": "markdown",
   "metadata": {},
   "source": [
    "## Small Changes and Errors\n",
    "\n",
    "The principles of total differentiation can be used to\n",
    "approximate the change (or error) in a quantity due to small changes in the other\n",
    "variables.\n",
    "\n",
    "If $w = f (x, y, z,\\ldots)$ then the following relationship holds:\n",
    "\n",
    "$$\n",
    "\\Delta w \\approx \\PD{}{w}{x} \\Delta x + \\PD{}{w}{y} \\Delta y + \\PD{}{w}{z} \\Delta z + \\cdots,\n",
    "$$\n",
    "\n",
    "where $\\Delta x$, $\\Delta y$, $\\Delta z$ etc. denote small changes in the given variable."
   ]
  },
  {
   "cell_type": "markdown",
   "metadata": {},
   "source": [
    "---\n"
   ]
  },
  {
   "cell_type": "markdown",
   "metadata": {},
   "source": [
    "## Percentage Changes\n",
    "\n",
    "For percentage changes the $\\Delta x$, $\\Delta y$, etc. become a proportion multiplied by $x$, $y$ etc., then we must factor out the original function to give aproportion of $w$:\n",
    "\n",
    "$${\\eqnum{\n",
    "(P_w w) \\approx \\PD{}{w}{x} (P_x x) + \\PD{}{w}{y} (P_y y) + \\PD{}{w}{z} (P_z z) + \\cdots,\n",
    "}}$$"
   ]
  },
  {
   "cell_type": "markdown",
   "metadata": {},
   "source": [
    "---\n",
    "\n",
    "#### Example for percentage changes\n",
    "If the pressure of a gas $p$ and the volume $V$ are related to a constant $k$ by the equation $k = 2pV^{2.8}$, what is the approximate percentage error in k when the volume\n",
    "is decreased by 2% and the pressure increased by 3%?\n",
    "\n",
    "The relationship for small change in this case is:\n",
    "\n",
    "$$\\eq{\n",
    "\\Delta k &\\approx \\PD{}{k}{p} \\Delta p + \\PD{}{k}{V} \\Delta V,\\\\\n",
    "&\\approx 2V^{2.8} \\Delta p + 5.6pV^{1.8} \\Delta V\\\\\n",
    "&\\approx 2V^{2.8} (0.03p) + 5.6pV^{1.8} (-0.02V)\n",
    "}$$\n",
    "\n",
    "We now need to rearrange to get in terms of the original expression for $k$:\n",
    "\n",
    "$$\\eq{\n",
    "\\Delta k &\\approx 2pV^{2.8} (0.03) + 5.6pV^{1.8+1} (-0.02)\\\\\n",
    "&\\approx 2pV^{2.8} (0.03) + 2pV^{2.8}(2.8)(-0.02)\\\\\n",
    "&\\approx 2pV^{2.8} [(0.03) - (2.8)(0.02)\n",
    "]\\\\\n",
    "&\\approx k [-0.026]\n",
    "}$$\n",
    "So a decrease in $k$ of $2.6\\%$\n",
    "\n",
    "---"
   ]
  },
  {
   "cell_type": "markdown",
   "metadata": {},
   "source": [
    "## Rates of Change\n",
    "\n",
    "If the variables (e.g. $x, y, z,\\ldots$) are changing over time, at known rates $\\DE{}{x}{t}, \\DE{}{y}{t}, \\DE{}{z}{t}\\ldots$, then the total differential can be divided by $\\dd t$ to give the *total rate of change* of a function $w = f(x(t),y(t),z(t))$:\n",
    "\n",
    "$$\\eqnum{\n",
    "\\DE{}{w}{t} &= \\PD{}{w}{x}\\DE{}{x}{t} + \\PD{}{w}{y}\\DE{}{y}{t} + \\PD{}{w}{z}\\DE{}{z}{t} + \\cdots\\\\\n",
    "&\\\\\n",
    "&\\equiv f_x \\dot{x} + f_y \\dot{y} + f_z \\dot{z} + \\cdots\n",
    "}\n",
    "$$"
   ]
  },
  {
   "cell_type": "markdown",
   "metadata": {},
   "source": [
    "---\n",
    "\n",
    "#### Example:\n",
    "The rate of change of $z=2x^3\\sin(2y)$ when $x=2$ units, $y=\\pi/6$ and $x$ is increasing by $4$ units/s and $y$ decreasing by 0.5 units/s.\n",
    "\n",
    "$\\dot x = 4$ and $\\dot{y}=-0.5$,\n",
    "\n",
    "$z_x={6x^2\\sin(2y)}$, \n",
    "\n",
    "$z_y={4x^3\\cos(2y)}$, \n",
    "\n",
    "$$\\eq{\n",
    "\\DE{}{z}{t} &= z_x \\dot{x} + z_y \\dot{y}\\\\\n",
    " &= 6x^2\\sin(2y) (4) + 4x^3\\cos(2y) (-0.5)\\\\\n",
    " &= 24(2)^2\\sin(2(\\pi/6))-2(2)^3\\cos(2(\\pi/6))\\\\ &= \n",
    " 75.14 \\text{ units/s}. \n",
    " }$$"
   ]
  }
 ],
 "metadata": {
  "anaconda-cloud": {},
  "kernelspec": {
   "display_name": "Python 3",
   "language": "python",
   "name": "python3"
  },
  "language_info": {
   "codemirror_mode": {
    "name": "ipython",
    "version": 3
   },
   "file_extension": ".py",
   "mimetype": "text/x-python",
   "name": "python",
   "nbconvert_exporter": "python",
   "pygments_lexer": "ipython3",
   "version": "3.8.5"
  },
  "nbpresent": {
   "slides": {
    "337b12d4-4ce3-43e1-b407-27aaadfa62e0": {
     "id": "337b12d4-4ce3-43e1-b407-27aaadfa62e0",
     "prev": "ea52565c-1716-4f10-92cc-a9e175ef4ae8",
     "regions": {
      "0c32d58b-e233-4f11-8da5-e841a233452d": {
       "attrs": {
        "height": 0.8,
        "width": 0.8,
        "x": 0.1,
        "y": 0.1
       },
       "content": {
        "cell": "02cd5dd7-58e9-4c4e-9f6c-80fd12873cf9",
        "part": "whole"
       },
       "id": "0c32d58b-e233-4f11-8da5-e841a233452d"
      }
     }
    },
    "35f32e57-ff92-4d60-8f31-fc82709feee4": {
     "id": "35f32e57-ff92-4d60-8f31-fc82709feee4",
     "prev": "c7e331d7-d0b1-49cf-bfa3-2ac44a38116f",
     "regions": {
      "81c8f902-fd54-416a-9be9-3caca507df51": {
       "attrs": {
        "height": 0.8,
        "width": 0.8,
        "x": 0.1,
        "y": 0.1
       },
       "content": {
        "cell": "45c9d6fa-949f-49ee-a618-32ca4b70d606",
        "part": "whole"
       },
       "id": "81c8f902-fd54-416a-9be9-3caca507df51"
      }
     }
    },
    "5d099369-cbbd-44a5-a97c-c66aaf018055": {
     "id": "5d099369-cbbd-44a5-a97c-c66aaf018055",
     "prev": null,
     "regions": {
      "f8f47a62-9ba5-489b-a654-c964a1381322": {
       "attrs": {
        "height": 0.8,
        "width": 0.8,
        "x": 0.1,
        "y": 0.1
       },
       "content": {
        "cell": "c0cc3ba1-1937-4e56-a920-8f976620118c",
        "part": "whole"
       },
       "id": "f8f47a62-9ba5-489b-a654-c964a1381322"
      }
     }
    },
    "5ea04055-a328-43a2-a22b-b44ff241d6f2": {
     "id": "5ea04055-a328-43a2-a22b-b44ff241d6f2",
     "prev": "e36293b9-7d4d-41ac-8430-df3262023a67",
     "regions": {
      "22c43166-579c-46e5-afa8-ff48875b4ca8": {
       "attrs": {
        "height": 0.8,
        "width": 0.8,
        "x": 0.1,
        "y": 0.1
       },
       "content": {
        "cell": "526cfda3-dccd-44fe-8346-35550f4cd412",
        "part": "whole"
       },
       "id": "22c43166-579c-46e5-afa8-ff48875b4ca8"
      }
     }
    },
    "69faacce-ca91-480d-b1ce-d0f15c4ede2a": {
     "id": "69faacce-ca91-480d-b1ce-d0f15c4ede2a",
     "prev": "35f32e57-ff92-4d60-8f31-fc82709feee4",
     "regions": {
      "ae09e231-f9ea-4baa-b388-515a70ff9822": {
       "attrs": {
        "height": 0.8,
        "width": 0.8,
        "x": 0.1,
        "y": 0.1
       },
       "content": {
        "cell": "c2612ca5-442b-4977-afeb-867ae2363515",
        "part": "whole"
       },
       "id": "ae09e231-f9ea-4baa-b388-515a70ff9822"
      }
     }
    },
    "7355540a-ec6c-4697-9f01-272393a8b9a8": {
     "id": "7355540a-ec6c-4697-9f01-272393a8b9a8",
     "prev": "5d099369-cbbd-44a5-a97c-c66aaf018055",
     "regions": {
      "49ce656f-365d-4b82-86ee-38754846d8b6": {
       "attrs": {
        "height": 0.8,
        "width": 0.8,
        "x": 0.1,
        "y": 0.1
       },
       "content": {
        "cell": "e0ff5d83-0f10-41e2-96f9-063003886ae3",
        "part": "whole"
       },
       "id": "49ce656f-365d-4b82-86ee-38754846d8b6"
      }
     }
    },
    "804e2c8a-0e28-4603-a002-546fb75d1a41": {
     "id": "804e2c8a-0e28-4603-a002-546fb75d1a41",
     "prev": "8d7441ae-1f92-4269-8d3c-390b39585b23",
     "regions": {
      "3d977c69-f5a2-46b0-a6f1-65f70aa5ace9": {
       "attrs": {
        "height": 0.8,
        "width": 0.8,
        "x": 0.1,
        "y": 0.1
       },
       "content": {
        "cell": "eb5f3ea3-dd95-4e6d-b455-829908466474",
        "part": "whole"
       },
       "id": "3d977c69-f5a2-46b0-a6f1-65f70aa5ace9"
      }
     }
    },
    "87c5c425-c2c0-41a4-a634-b3cfc6c23cde": {
     "id": "87c5c425-c2c0-41a4-a634-b3cfc6c23cde",
     "prev": "7355540a-ec6c-4697-9f01-272393a8b9a8",
     "regions": {
      "a0ee583f-62ef-4f61-beab-3a9afd12a1a1": {
       "attrs": {
        "height": 0.8,
        "width": 0.8,
        "x": 0.1,
        "y": 0.1
       },
       "content": {
        "cell": "0968bba4-f978-41f5-bc12-fe8b4129cb54",
        "part": "whole"
       },
       "id": "a0ee583f-62ef-4f61-beab-3a9afd12a1a1"
      }
     }
    },
    "8d7441ae-1f92-4269-8d3c-390b39585b23": {
     "id": "8d7441ae-1f92-4269-8d3c-390b39585b23",
     "prev": "cdf41d69-5276-47a8-b89d-50555f78b44b",
     "regions": {
      "9bc40107-f7f1-4aef-8569-291e445e9f71": {
       "attrs": {
        "height": 0.8,
        "width": 0.8,
        "x": 0.1,
        "y": 0.1
       },
       "content": {
        "cell": "09d446e2-5608-46d6-b1e5-4668cb6064e9",
        "part": "whole"
       },
       "id": "9bc40107-f7f1-4aef-8569-291e445e9f71"
      }
     }
    },
    "9aa601e2-b5aa-4ed1-8c78-f7ec24217fbe": {
     "id": "9aa601e2-b5aa-4ed1-8c78-f7ec24217fbe",
     "prev": "87c5c425-c2c0-41a4-a634-b3cfc6c23cde",
     "regions": {
      "9ad3269a-5bef-4a42-ba1d-d38f53a945e6": {
       "attrs": {
        "height": 0.8,
        "width": 0.8,
        "x": 0.1,
        "y": 0.1
       },
       "content": {
        "cell": "0d692b63-6972-4cdb-8bad-d455daa3aed5",
        "part": "whole"
       },
       "id": "9ad3269a-5bef-4a42-ba1d-d38f53a945e6"
      }
     }
    },
    "b58ef714-490e-4a1a-bd31-71393128ba1d": {
     "id": "b58ef714-490e-4a1a-bd31-71393128ba1d",
     "prev": "b868b734-c8ba-47f0-9ab1-bcc8a1dfe87d",
     "regions": {
      "ab2f5be0-acc1-4b4b-bb6e-2bac7e1d153c": {
       "attrs": {
        "height": 0.8,
        "width": 0.8,
        "x": 0.10000000000000002,
        "y": 0.1
       },
       "content": {
        "cell": "852aa0d0-d3c1-411b-9746-faa193487cac",
        "part": "whole"
       },
       "id": "ab2f5be0-acc1-4b4b-bb6e-2bac7e1d153c"
      }
     }
    },
    "b868b734-c8ba-47f0-9ab1-bcc8a1dfe87d": {
     "id": "b868b734-c8ba-47f0-9ab1-bcc8a1dfe87d",
     "prev": "bb86916f-22a8-4cad-ab9a-137e746e7ba3",
     "regions": {
      "40482e0f-44ad-44b1-9913-270d86d1bc47": {
       "attrs": {
        "height": 0.8,
        "width": 0.8,
        "x": 0.1,
        "y": 0.1
       },
       "content": {
        "cell": "a091a57b-c696-40e6-8daf-fe63cf54e561",
        "part": "whole"
       },
       "id": "40482e0f-44ad-44b1-9913-270d86d1bc47"
      }
     }
    },
    "b90cf7f4-a0ba-492d-a0d4-a92560fe30b7": {
     "id": "b90cf7f4-a0ba-492d-a0d4-a92560fe30b7",
     "prev": "804e2c8a-0e28-4603-a002-546fb75d1a41",
     "regions": {
      "8982fc67-c9a1-4db6-97d7-58101f7c8040": {
       "attrs": {
        "height": 0.8,
        "width": 0.8,
        "x": 0.1,
        "y": 0.1
       },
       "content": {
        "cell": "2e730b46-9853-4838-816e-ff8e97da84be",
        "part": "whole"
       },
       "id": "8982fc67-c9a1-4db6-97d7-58101f7c8040"
      }
     }
    },
    "bb86916f-22a8-4cad-ab9a-137e746e7ba3": {
     "id": "bb86916f-22a8-4cad-ab9a-137e746e7ba3",
     "prev": "69faacce-ca91-480d-b1ce-d0f15c4ede2a",
     "regions": {
      "bf7e45a2-9159-450d-8686-8c7dab2fecbd": {
       "attrs": {
        "height": 0.8,
        "width": 0.8,
        "x": 0.1,
        "y": 0.1
       },
       "content": {
        "cell": "61f59abe-1fdb-4cd3-92e6-deb4de9fd7ee",
        "part": "whole"
       },
       "id": "bf7e45a2-9159-450d-8686-8c7dab2fecbd"
      }
     }
    },
    "c7e331d7-d0b1-49cf-bfa3-2ac44a38116f": {
     "id": "c7e331d7-d0b1-49cf-bfa3-2ac44a38116f",
     "prev": "9aa601e2-b5aa-4ed1-8c78-f7ec24217fbe",
     "regions": {
      "0701a907-2acf-4f7e-8890-21f3011987ef": {
       "attrs": {
        "height": 0.8,
        "width": 0.8,
        "x": 0.1,
        "y": 0.1
       },
       "content": {
        "cell": "e973c81c-5cbb-4025-978f-60aa03aa9c4c",
        "part": "whole"
       },
       "id": "0701a907-2acf-4f7e-8890-21f3011987ef"
      }
     }
    },
    "c8cc5f5d-2c29-4f78-a1fe-d914f768c600": {
     "id": "c8cc5f5d-2c29-4f78-a1fe-d914f768c600",
     "prev": "b90cf7f4-a0ba-492d-a0d4-a92560fe30b7",
     "regions": {
      "84ef4059-6e91-43f0-9fcd-dc40243ed3a5": {
       "attrs": {
        "height": 0.8,
        "width": 0.8,
        "x": 0.1,
        "y": 0.1
       },
       "content": {
        "cell": "8a8ef26e-2a72-4644-b0d4-cdd076a392f9",
        "part": "whole"
       },
       "id": "84ef4059-6e91-43f0-9fcd-dc40243ed3a5"
      }
     }
    },
    "cdf41d69-5276-47a8-b89d-50555f78b44b": {
     "id": "cdf41d69-5276-47a8-b89d-50555f78b44b",
     "prev": "337b12d4-4ce3-43e1-b407-27aaadfa62e0",
     "regions": {
      "40500d2a-0939-4012-81cd-4860fbe73bf7": {
       "attrs": {
        "height": 0.8,
        "width": 0.8,
        "x": 0.1,
        "y": 0.1
       },
       "content": {
        "cell": "2b46251a-35aa-4252-a3d4-c476fcf1452f",
        "part": "whole"
       },
       "id": "40500d2a-0939-4012-81cd-4860fbe73bf7"
      }
     }
    },
    "e36293b9-7d4d-41ac-8430-df3262023a67": {
     "id": "e36293b9-7d4d-41ac-8430-df3262023a67",
     "prev": "f28bfd23-8183-4f11-ab03-47b75fc08ccd",
     "regions": {
      "f1759137-770e-451f-90d2-753cbc8c0b6f": {
       "attrs": {
        "height": 0.8,
        "width": 0.8,
        "x": 0.1,
        "y": 0.1
       },
       "content": {
        "cell": "d16916af-4884-41ee-9518-2bc0f7d5fe24",
        "part": "whole"
       },
       "id": "f1759137-770e-451f-90d2-753cbc8c0b6f"
      }
     }
    },
    "ea52565c-1716-4f10-92cc-a9e175ef4ae8": {
     "id": "ea52565c-1716-4f10-92cc-a9e175ef4ae8",
     "prev": "b58ef714-490e-4a1a-bd31-71393128ba1d",
     "regions": {
      "15109071-ea18-4468-89aa-719c67362f0d": {
       "attrs": {
        "height": 0.8,
        "width": 0.8,
        "x": 0.1,
        "y": 0.1
       },
       "content": {
        "cell": "0f165874-220f-41b4-b486-be7398dad446",
        "part": "whole"
       },
       "id": "15109071-ea18-4468-89aa-719c67362f0d"
      }
     }
    },
    "f28bfd23-8183-4f11-ab03-47b75fc08ccd": {
     "id": "f28bfd23-8183-4f11-ab03-47b75fc08ccd",
     "prev": "c8cc5f5d-2c29-4f78-a1fe-d914f768c600",
     "regions": {
      "3569253b-ad12-478c-908b-e25d43c08610": {
       "attrs": {
        "height": 0.8,
        "width": 0.8,
        "x": 0.1,
        "y": 0.1
       },
       "content": {
        "cell": "9af63a0c-91ea-4777-a406-32dfca672581",
        "part": "whole"
       },
       "id": "3569253b-ad12-478c-908b-e25d43c08610"
      }
     }
    }
   },
   "themes": {}
  }
 },
 "nbformat": 4,
 "nbformat_minor": 1
}
