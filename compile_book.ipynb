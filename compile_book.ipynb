{
 "cells": [
  {
   "cell_type": "markdown",
   "id": "filled-milton",
   "metadata": {
    "deletable": false,
    "editable": false
   },
   "source": [
    "# Compile the book\n",
    "\n",
    "## 1. Run the cell below to compile the book!"
   ]
  },
  {
   "cell_type": "code",
   "execution_count": null,
   "id": "national-opera",
   "metadata": {
    "deletable": false,
    "editable": false
   },
   "outputs": [],
   "source": [
    "!jupyter-book build .\n",
    "!cp -r Figures _build/html\n",
    "\n",
    "import zipfile, os, glob\n",
    "\n",
    "home=os.getcwd()\n",
    "os.chdir(\"_build/html\")\n",
    "files = glob.glob(\"**\", recursive=True)\n",
    "zipname = 'AR20386_notes.zip'\n",
    "with zipfile.ZipFile(zipname, 'w') as myzip:\n",
    "    for item in files:\n",
    "        myzip.write(item)\n",
    "os.rename(zipname, f\"{home}/{zipname}\")\n",
    "os.chdir(home)  "
   ]
  },
  {
   "cell_type": "markdown",
   "id": "infectious-basketball",
   "metadata": {
    "deletable": false,
    "editable": false
   },
   "source": [
    "## 2. Download: [AR20386_notes.zip](AR20386_notes.zip)"
   ]
  }
 ],
 "metadata": {
  "kernelspec": {
   "display_name": "Python 3",
   "language": "python",
   "name": "python3"
  },
  "language_info": {
   "codemirror_mode": {
    "name": "ipython",
    "version": 3
   },
   "file_extension": ".py",
   "mimetype": "text/x-python",
   "name": "python",
   "nbconvert_exporter": "python",
   "pygments_lexer": "ipython3",
   "version": "3.7.10"
  }
 },
 "nbformat": 4,
 "nbformat_minor": 5
}
