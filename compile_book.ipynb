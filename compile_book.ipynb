{
 "cells": [
  {
   "cell_type": "markdown",
   "id": "filled-milton",
   "metadata": {
    "deletable": false,
    "editable": false
   },
   "source": [
    "# Compile the book\n",
    "\n",
    "## 1. Run the cell below to compile the book!"
   ]
  },
  {
   "cell_type": "code",
   "execution_count": 3,
   "id": "national-opera",
   "metadata": {
    "deletable": false,
    "editable": false
   },
   "outputs": [
    {
     "name": "stdout",
     "output_type": "stream",
     "text": [
      "\u001b[32m\u001b[1mRunning Jupyter-Book v0.11.2\u001b[0m\n",
      "\u001b[34m\u001b[1mSource Folder: \u001b[0m/home/jovyan\n",
      "\u001b[34m\u001b[1mConfig Path: \u001b[0m/home/jovyan/_config.yml\n",
      "\u001b[34m\u001b[1mOutput Path: \u001b[0m/home/jovyan/_build/html\n",
      "\u001b[01mRunning Sphinx v3.5.4\u001b[39;49;00m\n",
      "[etoc] Changing master_doc to 'Maths2_000'\n",
      "\u001b[01mloading pickled environment... \u001b[39;49;00mdone\n",
      "\u001b[01mmyst v0.13.7:\u001b[39;49;00m MdParserConfig(renderer='sphinx', commonmark_only=False, dmath_allow_labels=True, dmath_allow_space=True, dmath_allow_digits=True, update_mathjax=True, enable_extensions=['colon_fence', 'dollarmath', 'linkify', 'substitution'], disable_syntax=[], url_schemes=['mailto', 'http', 'https'], heading_anchors=None, html_meta=[], footnote_transition=True, substitutions=[], sub_delimiters=['{', '}'])\n",
      "\u001b[01mbuilding [mo]: \u001b[39;49;00mtargets for 0 po files that are out of date\n",
      "\u001b[01mbuilding [html]: \u001b[39;49;00mtargets for 2 source files that are out of date\n",
      "\u001b[01mupdating environment: \u001b[39;49;00m0 added, 2 changed, 0 removed\n",
      "\u001b[01mreading sources... \u001b[39;49;00m[100%] \u001b[35mcompile_book\u001b[39;49;00m                                          \n",
      "\u001b[01mlooking for now-outdated files... \u001b[39;49;00mnone found\n",
      "\u001b[01mpickling environment... \u001b[39;49;00mdone\n",
      "\u001b[01mchecking consistency... \u001b[39;49;00m\u001b[91m/home/jovyan/README.md: WARNING: document isn't included in any toctree\u001b[39;49;00m\n",
      "\u001b[91m/home/jovyan/compile_book.ipynb: WARNING: document isn't included in any toctree\u001b[39;49;00m\n",
      "done\n",
      "\u001b[01mpreparing documents... \u001b[39;49;00mdone\n",
      "\u001b[01mwriting output... \u001b[39;49;00m[100%] \u001b[32mcompile_book\u001b[39;49;00m                                           \n",
      "\u001b[91m/home/jovyan/Maths2_000.ipynb:20002: WARNING: Pygments lexer name '{toggle}click' is not known\u001b[39;49;00m\n",
      "\u001b[01mgenerating indices... \u001b[39;49;00mgenindex done\n",
      "\u001b[01mwriting additional pages... \u001b[39;49;00msearch done\n",
      "\u001b[01mcopying static files... \u001b[39;49;00mdone\n",
      "\u001b[01mcopying extra files... \u001b[39;49;00mdone\n",
      "\u001b[01mdumping search index in English (code: en)... \u001b[39;49;00mdone\n",
      "\u001b[01mdumping object inventory... \u001b[39;49;00mdone\n",
      "\u001b[01mbuild succeeded, 3 warnings.\u001b[39;49;00m\n",
      "\n",
      "The HTML pages are in _build/html.\n",
      "\n",
      "\u001b[92m===============================================================================\u001b[0m\n",
      "\n",
      "Finished generating HTML for book.\n",
      "Your book's HTML pages are here:\n",
      "    _build/html/\n",
      "You can look at your book by opening this file in a browser:\n",
      "    _build/html/index.html\n",
      "Or paste this line directly into your browser bar:\n",
      "    file:///home/jovyan/_build/html/index.html            \n",
      "\n",
      "\u001b[92m===============================================================================\u001b[0m\n",
      "\n"
     ]
    }
   ],
   "source": [
    "!jupyter-book build .\n",
    "!cp -r Figures _build/html\n",
    "\n",
    "import zipfile, os, glob\n",
    "\n",
    "home=os.getcwd()\n",
    "os.chdir(\"_build/html\")\n",
    "files = glob.glob(\"**\", recursive=True)\n",
    "zipname = 'AR20386_notes.zip'\n",
    "with zipfile.ZipFile(zipname, 'w') as myzip:\n",
    "    for item in files:\n",
    "        myzip.write(item)\n",
    "os.rename(zipname, f\"{home}/{zipname}\")\n",
    "os.chdir(home)  "
   ]
  },
  {
   "cell_type": "markdown",
   "id": "infectious-basketball",
   "metadata": {
    "deletable": false,
    "editable": false
   },
   "source": [
    "## 2. Download: [AR20386_notes.zip](AR20386_notes.zip)"
   ]
  }
 ],
 "metadata": {
  "kernelspec": {
   "display_name": "Python 3",
   "language": "python",
   "name": "python3"
  },
  "language_info": {
   "codemirror_mode": {
    "name": "ipython",
    "version": 3
   },
   "file_extension": ".py",
   "mimetype": "text/x-python",
   "name": "python",
   "nbconvert_exporter": "python",
   "pygments_lexer": "ipython3",
   "version": "3.7.10"
  }
 },
 "nbformat": 4,
 "nbformat_minor": 5
}
