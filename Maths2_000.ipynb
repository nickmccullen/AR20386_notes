{
 "cells": [
  {
   "cell_type": "markdown",
   "metadata": {},
   "source": [
    "# How to Study this Unit\n",
    "\n",
    "## Notes\n",
    "\n",
    "-   Read relevant sections and have a go at exercises in *advance* of the lectures.\n",
    "\n",
    "-   Do problem sets using the examples in these notes to guide you.\n",
    "\n",
    "\n",
    "## Lectures \n",
    "\n",
    "-   Lectures are for inspiration, motivation and context.\n",
    "\n",
    "-   Lectures will mostly be based around real problems, using the notes\n",
    "    as theory and additional information.\n",
    "\n",
    "-   Take notes and **annotate** your notes using coloured\n",
    "    pens!\n",
    "\n",
    "## Problem Classes \n",
    "\n",
    "-   These are the most important part of studying the maths for this\n",
    "    unit.\n",
    "\n",
    "-   Maths is a *skill* that you only learn by continual\n",
    "    practice, so these are **essential and compulsory** if\n",
    "    you want to do well in this unit and other subjects that rely on it\n",
    "    in this and future years.\n",
    "\n",
    "-   There will be online quizzes to practice and test your understanding\n",
    "    and gain continual feedback. Some credit is assigned to completing\n",
    "    these to motivate you to be engaged thoughout the semester.\n",
    "\n",
    "There will be revision classes towards the end of the unit, summarising\n",
    "the various topics and what is considered either  \n",
    "**Basic**\n",
    "material: need to know to pass;  \n",
    "**Intermediate** material:\n",
    "what is needed to gain reasonable marks and a decent understanding and\n",
    "ability to solve problems;  \n",
    "**Advanced** material: for\n",
    "deeper understanding and the chance to gain top marks and go far with\n",
    "Engineering!"
   ]
  }
 ],
 "metadata": {
  "anaconda-cloud": {},
  "kernelspec": {
   "display_name": "Python 3",
   "language": "python",
   "name": "python3"
  },
  "language_info": {
   "codemirror_mode": {
    "name": "ipython",
    "version": 3
   },
   "file_extension": ".py",
   "mimetype": "text/x-python",
   "name": "python",
   "nbconvert_exporter": "python",
   "pygments_lexer": "ipython3",
   "version": "3.7.10"
  }
 },
 "nbformat": 4,
 "nbformat_minor": 1
}
