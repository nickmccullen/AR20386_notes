{
 "cells": [
  {
   "cell_type": "markdown",
   "metadata": {
    "nbpresent": {
     "id": "e0ff5d83-0f10-41e2-96f9-063003886ae3"
    }
   },
   "source": [
    "$$\n",
    "\\def\\nn{\\nonumber}\n",
    "\\def\\PD#1#2#3{\\dfrac{\\partial^{#1} #2}{\\partial #3^{#1}}}\n",
    "\\def\\eq#1{\\begin{align}#1\\end{align}}\n",
    "\\def\\eqnum#1{\\begin{align}#1\\end{align}}\n",
    "\\def\\dd{\\text{d}}\n",
    "\\def\\DE#1#2#3{\\dfrac{\\dd^{#1} #2}{\\dd #3^{#1}}}\n",
    "$$\n",
    "\n",
    "\n",
    "# Vector Functions, Partial Differentiation and Flows"
   ]
  },
  {
   "cell_type": "markdown",
   "metadata": {
    "nbpresent": {
     "id": "0968bba4-f978-41f5-bc12-fe8b4129cb54"
    }
   },
   "source": [
    "## Aims\n",
    "\n",
    "1.  Finding the gradient in a particular (e.g. $x, y$) direction\n",
    "2.  Finding first and second partial derivatives\n",
    "3. Obtain the gradient of a scalar function and use this to: \n",
    "4. Calculate the directional derivative of the function.\n",
    "5. Calculate the Divergence and Curl of a vector function"
   ]
  },
  {
   "cell_type": "markdown",
   "metadata": {},
   "source": [
    "## Functions of several variables\n",
    "\n",
    "Most engineering problems have two or more variables.\n",
    "For example in materials:\n",
    "\n",
    "$$\n",
    "\\sigma=K\\left(\\frac{r}{L}\\right)^2\n",
    "$$\n",
    "\n",
    "gives the axial stress $\\sigma$, which varies with the radius of gyration $r$ and length $L$.\n",
    "\n",
    "Problems involving fluids in space often have the three $x,y,z$ variables for spatial dimensions, time $t$ and others such as pressure $P$, temperature $\\theta$, density $\\rho$, ... "
   ]
  },
  {
   "cell_type": "markdown",
   "metadata": {},
   "source": [
    "## Scalar and Vector Fields\n",
    "\n",
    "\n",
    "\n",
    "* A scalar is a single number (positive or negative);\n",
    "* a vector is a *set* of values or coordinates, e.g.: $(x,y,z)$;\n",
    "\n",
    "The temperature in a room is called a _\"scaler field\"_ since it has just one value at each point and is given by a *scalar function* $T(x,y,z)$.\n",
    "\n",
    "* A *vector function* has multiple components $\\vec V = \\left(V_{\\hat i}(x,y,z), V_{\\hat j}(x,y,z), V_{\\hat k}(x,y,z)\\right)$.\n",
    "\n",
    "Air-flow at any point is given by a *vector*, since it also has *direction* at each position, which can be given in terms of the *velocity components* in $\\hat i,$ $\\hat j$ and $\\hat k$."
   ]
  },
  {
   "cell_type": "markdown",
   "metadata": {},
   "source": [
    "## Sketching Vector Functions\n",
    "\n",
    "Flows can be drawn as vector *arrows* at each point, with the magnitude of the flow given by the length of the arrow.\n",
    "\n",
    "For example a *rotating* flow of water could be given by the vector function $\\vec V = \\left(y, -x\\right)$, where the components $V_{\\hat i} = y$ and $V_{\\hat j} = -x$\n",
    "\n",
    "\n",
    "This can be sketched at the four points \n",
    "\n",
    "$(x,y) = (-1,1), (1,1), (1,-1), (-1,-1)$\n",
    "\n",
    "where the *flow*  is given by the components:\n",
    "\n",
    "$(V_{\\hat i},V_{\\hat j}) = (1,1), (1,-1), (-1,-1), (-1,1)$.\n",
    "\n",
    "<img width=400 src='Figures/vector.png'>\n",
    "\n",
    "In more detail:\n",
    "\n",
    "<img width=400 src='Figures/vector_circ.png'>"
   ]
  },
  {
   "cell_type": "markdown",
   "metadata": {
    "nbpresent": {
     "id": "0968bba4-f978-41f5-bc12-fe8b4129cb54"
    }
   },
   "source": [
    "## Derivatives Using Multiple Variables\n",
    "\n",
    "The height of a roof could be given by a function $z=f(x,y)$, for\n",
    "example: $f(x,y)=\\dfrac{x}{4}-y^2+5$.\n",
    "\n",
    "![](Figures/roof0.png)"
   ]
  },
  {
   "cell_type": "markdown",
   "metadata": {
    "nbpresent": {
     "id": "0d692b63-6972-4cdb-8bad-d455daa3aed5"
    }
   },
   "source": [
    "## Introduction to Partial Derivatives\n",
    "\n",
    "In the roof example above this is like looking at the slope (rate of\n",
    "change of the height) of the roof at any point $(x,y)$, in some given\n",
    "direction."
   ]
  },
  {
   "cell_type": "markdown",
   "metadata": {
    "nbpresent": {
     "id": "e973c81c-5cbb-4025-978f-60aa03aa9c4c"
    }
   },
   "source": [
    "### Notation\n",
    "\n",
    "The partial derivative uses a special symbol $\\partial$ (called _\"curly d\"_ or _\"partial d\"_) to remind us that we are differentiating one variable of several in the function.\n",
    "\n",
    "So when we want to know the slope of a function $z=f(x,y)$ in the $x$ direction, we differentiate only with respect to $x$ (holding $y$ as a constant) and write:\n",
    "\n",
    "$f_x = \\dfrac{\\partial z}{\\partial x}$, where $f_x$ is alternative notation for the gradient of $f$ in the $x$ direction.\n",
    "\n",
    "## Differentiation Rules for Partial Differentiation\n",
    "\n",
    "### Rule 1: To find the variation of one variable with respect to another, we have to hold all the others constant while we do it.\n",
    "\n"
   ]
  },
  {
   "cell_type": "markdown",
   "metadata": {
    "nbpresent": {
     "id": "45c9d6fa-949f-49ee-a618-32ca4b70d606"
    }
   },
   "source": [
    "\n",
    "\n",
    "#### Example: $f(x,y)=\\dfrac{x}{4}-y^2+5$.\n",
    "\n",
    "#### Gradient in $x$: \n",
    "\n",
    "* Hold $y$ constant: $y^2$ and $5$ are constants and disappear \n",
    "     - $\\dfrac{\\partial f}{\\partial x} = \\dfrac{1}{4}$\n",
    "     \n",
    "#### Gradient in $y$: \n",
    "\n",
    "* Hold $x$ constant: $\\dfrac{x}{4}$ and $5$ are constants and disappear \n",
    "     - $\\dfrac{\\partial f}{\\partial y} = -2y$\n",
    "![](Figures/roof0.png)\n",
    "\n"
   ]
  },
  {
   "cell_type": "markdown",
   "metadata": {
    "nbpresent": {
     "id": "0f165874-220f-41b4-b486-be7398dad446"
    }
   },
   "source": [
    "#### All the usual rules of differentiation apply to partial differentiation:\n",
    "\n",
    "### E.g., Product rule for $z=f(x,y)g(x,y)$: \n",
    "\n",
    "#### $\\quad\\dfrac{\\partial z}{\\partial x}=f\\dfrac{\\partial g}{\\partial x}+g\\dfrac{\\partial f}{\\partial x}\\quad$ \n",
    "\n",
    "or $\\quad z_x = gf_x + f g_x$"
   ]
  },
  {
   "cell_type": "markdown",
   "metadata": {
    "nbpresent": {
     "id": "02cd5dd7-58e9-4c4e-9f6c-80fd12873cf9"
    }
   },
   "source": [
    "\n",
    "#### Example: $z = (3x + y)(2x - 4y)$\n",
    "Find $z_x$ and $z_y$\n",
    "\n",
    "$$\n",
    "\\begin{align}\n",
    "\\dfrac{\\partial z}{\\partial x}&=(3x + y)(2) + (2x - 4y)(3)\\\\\n",
    "&=12x - 10y\\\\\n",
    "\\\\\n",
    "\\dfrac{\\partial z}{\\partial y}&=(3x + y)(-4) + (2x - 4y)(1)\\\\\n",
    "&=-10x - 8y\n",
    "\\end{align}\n",
    "$$\n",
    "\n"
   ]
  },
  {
   "cell_type": "markdown",
   "metadata": {
    "nbpresent": {
     "id": "8a8ef26e-2a72-4644-b0d4-cdd076a392f9"
    }
   },
   "source": [
    "## Higher derivatives\n",
    "\n",
    "As with ordinary differentiation the second differentials can also be found.\n",
    "These are often written $z_{xx}$, $z_{yy}$ and even $z_{xy}$ or $z_{yx}$, where the two subscripts mean differentiating with respect to one variable, then the other one:\n",
    "\n",
    "$$\n",
    "\\begin{align}\n",
    "z_{xx} &= \\dfrac{\\partial }{\\partial x}\\left\\{\\dfrac{\\partial z}{\\partial x}\\right\\} = \\dfrac{\\partial^2 z}{\\partial x^2},\\\\\n",
    "z_{yx} &= \\dfrac{\\partial }{\\partial x}\\left\\{\\dfrac{\\partial z}{\\partial y}\\right\\} = \\dfrac{\\partial^2 z}{\\partial x \\partial y},\n",
    "\\end{align}\n",
    "$$\n",
    "\n",
    "and so on.\n",
    "Note that the order of the $x$ and $y$ is different in the two notations.\n",
    "This is because in the subscript notation the differentiations are carried out from left to right, but in the *\"Leibniz\"* notation the they are carried out from right to left.\n",
    "\n",
    "Note that, in the above, there are two first differentials $z_x$ and $z_y$ but four second differentials $z_{xx},$ $z_{yy},$ $z_{xy},$ and $z_{yx}$\n",
    "\n",
    "Also notice that $z_{xy}=z_{yx}$.\n",
    "That is, the order doesn't matter so: $$\\dfrac{\\partial z}{\\partial x}\\left\\{\\dfrac{\\partial z}{\\partial y}\\right\\}=\\dfrac{\\partial z}{\\partial y}\\left\\{\\dfrac{\\partial z}{\\partial x}\\right\\}.$$ "
   ]
  },
  {
   "cell_type": "markdown",
   "metadata": {
    "nbpresent": {
     "id": "9af63a0c-91ea-4777-a406-32dfca672581"
    }
   },
   "source": [
    "## Finding Stationary Points\n",
    "\n",
    "As with ordinary differentials, stationary points of multivariate functions can also be found.\n",
    "\n",
    "Stationary points (minima, maxima, points of inflexion and saddle points) can be found by\n",
    "looking where the partial derivatives are all zero:\n",
    "\n",
    "$$\n",
    "\\dfrac{\\partial f}{\\partial x} = \\dfrac{\\partial f}{\\partial y} = \\dfrac{\\partial f}{\\partial z} = \\cdots = 0\n",
    "$$"
   ]
  },
  {
   "cell_type": "markdown",
   "metadata": {
    "nbpresent": {
     "id": "d16916af-4884-41ee-9518-2bc0f7d5fe24"
    }
   },
   "source": [
    "\n",
    "#### Example: $z=x^2-xy+y^2$\n",
    "\n",
    "\n",
    "$$\n",
    "\\begin{align}\n",
    "\\dfrac{\\partial z}{\\partial x} &= 2x-y = 0\\\\\n",
    "\\dfrac{\\partial z}{\\partial y} &= -x+2y = 0\n",
    "\\end{align}\n",
    "$$\n",
    "\n",
    "So $x=y=0$ is a turning point.\n",
    "\n"
   ]
  },
  {
   "cell_type": "markdown",
   "metadata": {
    "nbpresent": {
     "id": "526cfda3-dccd-44fe-8346-35550f4cd412"
    }
   },
   "source": [
    "To figure out if the stationary point is a minimum, maximum or something else look at the second derivatives.\n",
    "\n",
    "If all second derivatives are positive it is a\n",
    "minimum:\n",
    "$\\dfrac{\\partial^2 f}{\\partial x^2}\\gt 0, \\quad \\dfrac{\\partial^2 f}{\\partial y^2}\\gt 0$\n",
    "\n",
    "<img width=300 src='Figures/surf1.png'>\n",
    "\n",
    "If all second derivatives are negative it is a\n",
    "maximum:\n",
    "$\\dfrac{\\partial^2 f}{\\partial x^2}\\lt 0, \\quad \\dfrac{\\partial^2 f}{\\partial y^2}\\lt 0$\n",
    "\n",
    "<img width=300 src='Figures/surf2.png'>\n",
    "\n",
    "\n",
    "\n",
    "Finding the minima and maxima of functions is the basis of optimisation, which is used in parametric design."
   ]
  },
  {
   "cell_type": "markdown",
   "metadata": {},
   "source": [
    "## The Gradient Operator\n",
    "\n",
    "The *gradient operator* $\\nabla$ (\"del\", written as an upside-down delta ($\\Delta$)) is a multiple component version of the differential operator, defined:\n",
    "\n",
    "$$\n",
    "\\nabla=\\left( \\dfrac{\\partial }{\\partial x}, \\dfrac{\\partial }{\\partial y}, \\dfrac{\\partial }{\\partial z} \\right),\n",
    "$$\n",
    "\n",
    "in three dimensions.\n",
    "It is also called the *\"gradient vector\"*, since it is a vector.\n",
    "It takes a single function and returns three component functions (a vector function).\n",
    " "
   ]
  },
  {
   "cell_type": "markdown",
   "metadata": {},
   "source": [
    "## The Maximum Gradient: \"Grad\"\n",
    "\n",
    "The gradient operator can *operate* on a scalar field to produce a vector field, for example  for a temperature field $T=f(x,y,z)$, the **gradient of $T$** (pronounced \"*grad $T$*\") is given by:\n",
    "\n",
    "$$\\eqnum{\n",
    "\\nabla T&=\\left( \\PD{}{T}{x}, \\PD{}{T}{y}, \\PD{}{T}{z} \\right),\n",
    "}$$\n",
    "\n",
    "The temperature gradient vector would give the direction that the temperature is changing the most *at that point*, and the magnitude of that change.\n",
    "That is, it would give the *flow of heat*.\n",
    "\n",
    "* The magnitude $r(a,b,c)$ at any point $x = a$, $y = b$, $z = c$ can be obtained by:\n",
    "\n",
    "$$r=\\left|\\nabla f\\right|=\\sqrt{\\big(f_{\\hat i}\\{x=a\\}\\big)^2+\\big(f_{\\hat j}\\{y=b\\}\\big)^2+\\big(f_{\\hat k}\\{z=c\\}\\big)^2+\\cdots}$$\n",
    "\n",
    "Where the components $f_{\\hat i,\\hat j,\\hat k}$ are in terms of the unit vectors $\\hat{i}, \\hat{j}, \\hat{k}$ in the $x$, $y$, and $z$ direction.\n",
    "\n",
    "* Gradients point from **low** to **high**,  \n",
    "  but heat flows from **hot** to **cold** and air flows from\n",
    "  **high** to **low** pressure.\n",
    "    - The direction of flow is in the *opposite (negative) direction* to the gradient."
   ]
  },
  {
   "cell_type": "markdown",
   "metadata": {},
   "source": [
    "\n",
    "### Example:\n",
    "Find the gradient of the function $f(x,y)=x^2+y^2$ at the point $(1,2)$.\n",
    "\n",
    "$$\\eq{\n",
    "\\nabla f &=\\left( \\PD{}{}{x}, \\PD{}{}{y} \\right)\\{x^2+y^2\\}\\\\\n",
    "&=\\left( \\PD{}{}{x}\\{x^2+y^2\\}, \\PD{}{}{y}\\{x^2+y^2\\}\\right)\\\\\n",
    "&=(2x,2y).\n",
    "}$$\n",
    "\n",
    "So at the point $(x,y)=(1,2)$:\n",
    "\n",
    "$$\\eq{\n",
    "[\\nabla f]_{(1,2)} = (2,4)\\quad\\equiv 2{\\ \\hat{i}}+4{\\ \\hat{j}},\n",
    "}$$\n",
    "\n",
    "Which has a magnitude of $r=\\sqrt{2^2+4^2}=\\sqrt{20}$."
   ]
  },
  {
   "cell_type": "markdown",
   "metadata": {},
   "source": [
    "## The Directional Derivative\n",
    "\n",
    "To obtain the *gradient* (rate of change) of a function in a particular direction, use the **\"directional derivative\"**:\n",
    "\n",
    "$$\\eqnum{\n",
    "\\DE{}{f}{r} &= \\nabla f \\cdot \\hat{u}.\n",
    "}$$\n",
    "\n",
    "This is the scalar (\"dot\") product of $\\nabla f = (f_{\\hat i},f_{\\hat j},f_{\\hat k})$, which is a vector, with the unit vector in the direction of interest $\\hat u = (a,b,c)$.\n",
    "\n",
    "Remembering that $(u,v,w)\\cdot(x,y,z)=ux+vy+wz$:\n",
    "\n",
    "$$\n",
    "\\left(\\PD{}{f}{x},\\PD{}{f}{y},\\PD{}{f}{z}\\right)\\cdot(a  ,b ,c ) = \\PD{}{f}{x}a+\\PD{}{f}{y}b +\\PD{}{f}{z}c \n",
    "$$\n",
    "\n",
    "### Method to find the directional derivative:\n",
    "\n",
    "1. find the unit vector $\\hat{u}=\\dfrac{A}{|A|}$ in the direction you are interested in;\n",
    "2. calculate the gradient $\\nabla f$;\n",
    "3. Use the directional derivative above."
   ]
  },
  {
   "cell_type": "markdown",
   "metadata": {},
   "source": [
    "\n",
    "### Example:\n",
    "Using the equation for the directional derivative above, find the directional derivative of $\\phi=x^2y + xz$ at $(1,2,-1)$ in the direction $A=(2,-2,1)$.\n",
    "\n",
    "#### 1. First find the unit vector:\n",
    "\n",
    "$$\\eq{\n",
    "\\hat{u}&=\\frac{A}{|A|}\\\\\n",
    "&=\\frac{(2,-2,1)}{\\sqrt{(2)^2 + (-2)^2 + (1)^2}} =\\left(\\frac{2}{3}, \\frac{-2}{3}, \\frac{1}{3}\\right) \n",
    "}$$\n",
    "\n",
    "#### 2. Now find the gradient of $\\phi$:\n",
    "\n",
    "$$\\eq{\n",
    "\\nabla \\phi &= \\left( \\PD{}{\\phi}{x}, \\PD{}{\\phi}{y}, \\PD{}{\\phi}{z} \\right)\\\\\n",
    "&= ((2xy+z), x^2, x)\n",
    "}$$\n",
    "\n",
    "#### 3. Putting the values $(x,y,z)=(1,2,-1)$ into this gives:\n",
    "\n",
    "$$\\eq{\n",
    "\\nabla \\phi &= ((2(1)(2)+(-1)), (1)^2, (1))\\\\\n",
    "&= (3,1,1)\n",
    "}$$\n",
    "\n",
    "#### 4. Now using the directional derivative:\n",
    "\n",
    "$$\\eq{\n",
    "\\nabla \\phi \\cdot \\hat{u} &= (3, 1, 1)\\cdot\\left(\\frac{2}{3}, \\frac{-2}{3}, \\frac{1}{3}\\right)\\\\\n",
    "&=2 - \\frac{2}{3} + \\frac{1}{3} =\\frac{5}{3}\n",
    "}$$\n",
    "\n"
   ]
  },
  {
   "cell_type": "markdown",
   "metadata": {},
   "source": [
    "## Operator Products with Vector Functions\n",
    "\n",
    "Since the gradient operator $\\nabla$ is a vector $\\left( \\PD{}{}{x}, \\PD{}{}{y}, \\ldots \\right)$, it can itself be used with a *vector function* $\\vec{v}(x,y,z) = (v_x(x,y,z),v_y(x,y,z),v_z(x,y,z))$ using the dot or cross product.\n",
    "There is physical meaning to these operations when considering their effect on _vector fields_ such as fluid flows, as they give information about divergence in and rotations of the fluid.\n"
   ]
  },
  {
   "cell_type": "markdown",
   "metadata": {},
   "source": [
    "## The Divergence of a Flow\n",
    "\n",
    "The *dot product* of the gradient operator on a field given by a\n",
    "function $\\vec{v}(x,y,z)$ is called the **_“divergence”_** of the field:\n",
    "\n",
    "$$\\eqnum{\n",
    "\\textbf{Div} \\{ \\vec{v} \\} &= \\nabla \\cdot \\vec{v} = \\PD{}{v_{\\hat i}}{x} + \\PD{}{v_{\\hat j}}{y} + \\PD{}{v_{\\hat k}}{z}.\n",
    "}$$\n",
    "\n",
    "The divergence is a scalar quantity that gives whether the amount of\n",
    "*stuff* is *diverging* and becoming less dense at a point, or vice versa."
   ]
  },
  {
   "cell_type": "markdown",
   "metadata": {},
   "source": [
    "\n",
    "### Example: $\\vec v = (2x, 2y)$\n",
    "\n",
    "\n",
    "\n",
    "<img width=400 src='Figures/vector_2x2y.png'>"
   ]
  },
  {
   "cell_type": "markdown",
   "metadata": {},
   "source": [
    "\n",
    "### Example:\n",
    "Find an expression for the divergence of $\\vec{v} = 2x \\hat{i} + 2y \\hat{j}$\n",
    "\n",
    "$$\\eq{\n",
    "\\nabla \\cdot \\vec{v} &= \\left( \\PD{}{}{x}, \\PD{}{}{y}\\right) \\cdot (2x,2y)\\\\\n",
    "&=  \\PD{}{(2x)}{x} + \\PD{}{(2y)}{y} =  2 + 2 = 4\n",
    "}$$\n",
    "\n",
    "Which is a constant divergence of 4 everywhere.\n",
    "\n",
    "\n"
   ]
  },
  {
   "cell_type": "markdown",
   "metadata": {},
   "source": [
    "In physical problems where a fluid is incompressible and there are no\n",
    "*sources* creating new fluid or *sinks* taking it away, the divergence\n",
    "is set to zero: \n",
    "\n",
    "$$\n",
    "\\nabla \\cdot \\vec{v} = 0,\n",
    "$$\n",
    "\n",
    "which is a *partial differential equation*: \n",
    "\n",
    "$$\n",
    "\\PD{}{v_{\\hat i}}{x}+\\PD{}{v_{\\hat j}}{y}+\\PD{}{v_{\\hat k}}{z}=0.\n",
    "$$"
   ]
  },
  {
   "cell_type": "markdown",
   "metadata": {},
   "source": [
    "## The Curl of a Flow\n",
    "\n",
    "The *cross product* similarly has physical meaning when applied to\n",
    "vector fields, and is called the ***“curl”*** of a vector field: \n",
    "\n",
    "\n",
    "$$\\eqnum{\n",
    "\\nabla \\times \\Phi &= \\left| \n",
    "\\begin{matrix}\n",
    "\\hat{i}&\\hat{j}&\\hat{k}\\\\\n",
    "\\PD{}{}{x}&\\PD{}{}{y}&\\PD{}{}{z}\\\\\n",
    "v_{\\hat i}&v_{\\hat j}&v_{\\hat k}\n",
    "\\end{matrix}\n",
    "\\right|\\\\\n",
    "&=\\left( \\PD{}{v_{\\hat k}}{y} - \\PD{}{v_{\\hat j}}{z} \\right)\\hat{i}\n",
    "- \\left( \\PD{}{v_{\\hat k}}{x} - \\PD{}{v_{\\hat i}}{z}\\right)\\hat{j}\n",
    "+ \\left( \\PD{}{v_{\\hat j}}{x} - \\PD{}{v_{\\hat i}}{y} \\right)\\hat{k}\\nn\\\\\n",
    "&=\\left[\\left( \\PD{}{v_{\\hat k}}{y} - \\PD{}{v_{\\hat j}}{z} \\right),\n",
    "\\left( \\PD{}{v_{\\hat i}}{z} - \\PD{}{v_{\\hat k}}{x} \\right),\n",
    "\\left( \\PD{}{v_{\\hat j}}{x} - \\PD{}{v_{\\hat i}}{y} \\right)\\right]\\nn\n",
    "}$$\n",
    "\n",
    "This\n",
    "gives rotations of the vectors at points in the field, and is a measure\n",
    "of *vorticity* at points in fluids and other fields."
   ]
  },
  {
   "cell_type": "markdown",
   "metadata": {},
   "source": [
    "### Example: \n",
    "To show that the flow of $\\vec V = (y, -x)$ has *curl* (Note: a $z$ component is needed as the curl vector is drawn *perpendicular* to the plane of rotation):\n",
    "\n",
    "$$\\eq{\n",
    "\\nabla \\times \\Phi &= \\left| \n",
    "\\begin{matrix}\n",
    "\\hat{i}&\\hat{j}&\\hat{k}\\\\\n",
    "\\PD{}{}{x}&\\PD{}{}{y}&\\PD{}{}{z}\\\\\n",
    "{y}&{-x}&{0}\n",
    "\\end{matrix}\n",
    "\\right|\\\\\n",
    "&= \\left(\\left( \\PD{}{\\{0\\}}{y} - \\PD{}{\\{-x\\}}{z} \\right),\n",
    "\\left( \\PD{}{\\{y\\}}{z} - \\PD{}{\\{0\\}}{x} \\right),\n",
    "\\left( \\PD{}{\\{-x\\}}{x} - \\PD{}{\\{y\\}}{y} \\right)\\right)\\\\\n",
    "&= \\left(\\left( {0} - {0} \\right),\n",
    "\\left( {0} - {0} \\right),\n",
    "\\left( {-1} - {1} \\right)\\right)\\\\\n",
    "&= ({{0},{0},{-2})\n",
    "}\n",
    "}$$\n",
    "\n",
    "The rotation is a constant 2 (clockwise from above) everywhere."
   ]
  },
  {
   "cell_type": "markdown",
   "metadata": {},
   "source": [
    "### Extra FYI: Higher Derivatives\n",
    "\n",
    "The gradient operator can be applied multiple times, for example: \n",
    "\n",
    "$$\\eqnum{\n",
    "\\nabla \\cdot \\nabla \\phi = \\nabla \\cdot \\left( \\nabla \\phi\\right) \n",
    "&=  \\PD{}{}{x}\\left\\{ \\PD{}{\\phi}{x} \\right\\} + \\PD{}{}{y}\\left\\{ \\PD{}{\\phi}{y} \\right\\} + \\PD{}{}{z}\\left\\{ \\PD{}{\\phi}{z} \\right\\}, \\nn\\\\\n",
    " &= \\PD{2}{\\phi}{x} + \\PD{2}{\\phi}{y} + \\PD{2}{\\phi}{z}; \\\\\n",
    "\\text{or written as:}\\quad \\nabla^2 \\phi &=\\phi_{xx} + \\phi_{yy}  + \\phi_{zz} \\nn.\n",
    "}$$\n",
    "\n",
    "\n",
    "\n",
    "The\n",
    "*“diffusion operator”*:  $\\nabla^2$ is called the ***Laplacian***, and\n",
    "appears frequently in engineering applications in the Laplace equation,\n",
    "the wave equation and the diffusion or heat conduction equation, as we will see later."
   ]
  }
 ],
 "metadata": {
  "anaconda-cloud": {},
  "kernelspec": {
   "display_name": "Python 3 (ipykernel)",
   "language": "python",
   "name": "python3"
  },
  "language_info": {
   "codemirror_mode": {
    "name": "ipython",
    "version": 3
   },
   "file_extension": ".py",
   "mimetype": "text/x-python",
   "name": "python",
   "nbconvert_exporter": "python",
   "pygments_lexer": "ipython3",
   "version": "3.9.13"
  },
  "nbpresent": {
   "slides": {
    "337b12d4-4ce3-43e1-b407-27aaadfa62e0": {
     "id": "337b12d4-4ce3-43e1-b407-27aaadfa62e0",
     "prev": "ea52565c-1716-4f10-92cc-a9e175ef4ae8",
     "regions": {
      "0c32d58b-e233-4f11-8da5-e841a233452d": {
       "attrs": {
        "height": 0.8,
        "width": 0.8,
        "x": 0.1,
        "y": 0.1
       },
       "content": {
        "cell": "02cd5dd7-58e9-4c4e-9f6c-80fd12873cf9",
        "part": "whole"
       },
       "id": "0c32d58b-e233-4f11-8da5-e841a233452d"
      }
     }
    },
    "35f32e57-ff92-4d60-8f31-fc82709feee4": {
     "id": "35f32e57-ff92-4d60-8f31-fc82709feee4",
     "prev": "c7e331d7-d0b1-49cf-bfa3-2ac44a38116f",
     "regions": {
      "81c8f902-fd54-416a-9be9-3caca507df51": {
       "attrs": {
        "height": 0.8,
        "width": 0.8,
        "x": 0.1,
        "y": 0.1
       },
       "content": {
        "cell": "45c9d6fa-949f-49ee-a618-32ca4b70d606",
        "part": "whole"
       },
       "id": "81c8f902-fd54-416a-9be9-3caca507df51"
      }
     }
    },
    "5d099369-cbbd-44a5-a97c-c66aaf018055": {
     "id": "5d099369-cbbd-44a5-a97c-c66aaf018055",
     "prev": null,
     "regions": {
      "f8f47a62-9ba5-489b-a654-c964a1381322": {
       "attrs": {
        "height": 0.8,
        "width": 0.8,
        "x": 0.1,
        "y": 0.1
       },
       "content": {
        "cell": "c0cc3ba1-1937-4e56-a920-8f976620118c",
        "part": "whole"
       },
       "id": "f8f47a62-9ba5-489b-a654-c964a1381322"
      }
     }
    },
    "5ea04055-a328-43a2-a22b-b44ff241d6f2": {
     "id": "5ea04055-a328-43a2-a22b-b44ff241d6f2",
     "prev": "e36293b9-7d4d-41ac-8430-df3262023a67",
     "regions": {
      "22c43166-579c-46e5-afa8-ff48875b4ca8": {
       "attrs": {
        "height": 0.8,
        "width": 0.8,
        "x": 0.1,
        "y": 0.1
       },
       "content": {
        "cell": "526cfda3-dccd-44fe-8346-35550f4cd412",
        "part": "whole"
       },
       "id": "22c43166-579c-46e5-afa8-ff48875b4ca8"
      }
     }
    },
    "69faacce-ca91-480d-b1ce-d0f15c4ede2a": {
     "id": "69faacce-ca91-480d-b1ce-d0f15c4ede2a",
     "prev": "35f32e57-ff92-4d60-8f31-fc82709feee4",
     "regions": {
      "ae09e231-f9ea-4baa-b388-515a70ff9822": {
       "attrs": {
        "height": 0.8,
        "width": 0.8,
        "x": 0.1,
        "y": 0.1
       },
       "content": {
        "cell": "c2612ca5-442b-4977-afeb-867ae2363515",
        "part": "whole"
       },
       "id": "ae09e231-f9ea-4baa-b388-515a70ff9822"
      }
     }
    },
    "7355540a-ec6c-4697-9f01-272393a8b9a8": {
     "id": "7355540a-ec6c-4697-9f01-272393a8b9a8",
     "prev": "5d099369-cbbd-44a5-a97c-c66aaf018055",
     "regions": {
      "49ce656f-365d-4b82-86ee-38754846d8b6": {
       "attrs": {
        "height": 0.8,
        "width": 0.8,
        "x": 0.1,
        "y": 0.1
       },
       "content": {
        "cell": "e0ff5d83-0f10-41e2-96f9-063003886ae3",
        "part": "whole"
       },
       "id": "49ce656f-365d-4b82-86ee-38754846d8b6"
      }
     }
    },
    "804e2c8a-0e28-4603-a002-546fb75d1a41": {
     "id": "804e2c8a-0e28-4603-a002-546fb75d1a41",
     "prev": "8d7441ae-1f92-4269-8d3c-390b39585b23",
     "regions": {
      "3d977c69-f5a2-46b0-a6f1-65f70aa5ace9": {
       "attrs": {
        "height": 0.8,
        "width": 0.8,
        "x": 0.1,
        "y": 0.1
       },
       "content": {
        "cell": "eb5f3ea3-dd95-4e6d-b455-829908466474",
        "part": "whole"
       },
       "id": "3d977c69-f5a2-46b0-a6f1-65f70aa5ace9"
      }
     }
    },
    "87c5c425-c2c0-41a4-a634-b3cfc6c23cde": {
     "id": "87c5c425-c2c0-41a4-a634-b3cfc6c23cde",
     "prev": "7355540a-ec6c-4697-9f01-272393a8b9a8",
     "regions": {
      "a0ee583f-62ef-4f61-beab-3a9afd12a1a1": {
       "attrs": {
        "height": 0.8,
        "width": 0.8,
        "x": 0.1,
        "y": 0.1
       },
       "content": {
        "cell": "0968bba4-f978-41f5-bc12-fe8b4129cb54",
        "part": "whole"
       },
       "id": "a0ee583f-62ef-4f61-beab-3a9afd12a1a1"
      }
     }
    },
    "8d7441ae-1f92-4269-8d3c-390b39585b23": {
     "id": "8d7441ae-1f92-4269-8d3c-390b39585b23",
     "prev": "cdf41d69-5276-47a8-b89d-50555f78b44b",
     "regions": {
      "9bc40107-f7f1-4aef-8569-291e445e9f71": {
       "attrs": {
        "height": 0.8,
        "width": 0.8,
        "x": 0.1,
        "y": 0.1
       },
       "content": {
        "cell": "09d446e2-5608-46d6-b1e5-4668cb6064e9",
        "part": "whole"
       },
       "id": "9bc40107-f7f1-4aef-8569-291e445e9f71"
      }
     }
    },
    "9aa601e2-b5aa-4ed1-8c78-f7ec24217fbe": {
     "id": "9aa601e2-b5aa-4ed1-8c78-f7ec24217fbe",
     "prev": "87c5c425-c2c0-41a4-a634-b3cfc6c23cde",
     "regions": {
      "9ad3269a-5bef-4a42-ba1d-d38f53a945e6": {
       "attrs": {
        "height": 0.8,
        "width": 0.8,
        "x": 0.1,
        "y": 0.1
       },
       "content": {
        "cell": "0d692b63-6972-4cdb-8bad-d455daa3aed5",
        "part": "whole"
       },
       "id": "9ad3269a-5bef-4a42-ba1d-d38f53a945e6"
      }
     }
    },
    "b58ef714-490e-4a1a-bd31-71393128ba1d": {
     "id": "b58ef714-490e-4a1a-bd31-71393128ba1d",
     "prev": "b868b734-c8ba-47f0-9ab1-bcc8a1dfe87d",
     "regions": {
      "ab2f5be0-acc1-4b4b-bb6e-2bac7e1d153c": {
       "attrs": {
        "height": 0.8,
        "width": 0.8,
        "x": 0.10000000000000002,
        "y": 0.1
       },
       "content": {
        "cell": "852aa0d0-d3c1-411b-9746-faa193487cac",
        "part": "whole"
       },
       "id": "ab2f5be0-acc1-4b4b-bb6e-2bac7e1d153c"
      }
     }
    },
    "b868b734-c8ba-47f0-9ab1-bcc8a1dfe87d": {
     "id": "b868b734-c8ba-47f0-9ab1-bcc8a1dfe87d",
     "prev": "bb86916f-22a8-4cad-ab9a-137e746e7ba3",
     "regions": {
      "40482e0f-44ad-44b1-9913-270d86d1bc47": {
       "attrs": {
        "height": 0.8,
        "width": 0.8,
        "x": 0.1,
        "y": 0.1
       },
       "content": {
        "cell": "a091a57b-c696-40e6-8daf-fe63cf54e561",
        "part": "whole"
       },
       "id": "40482e0f-44ad-44b1-9913-270d86d1bc47"
      }
     }
    },
    "b90cf7f4-a0ba-492d-a0d4-a92560fe30b7": {
     "id": "b90cf7f4-a0ba-492d-a0d4-a92560fe30b7",
     "prev": "804e2c8a-0e28-4603-a002-546fb75d1a41",
     "regions": {
      "8982fc67-c9a1-4db6-97d7-58101f7c8040": {
       "attrs": {
        "height": 0.8,
        "width": 0.8,
        "x": 0.1,
        "y": 0.1
       },
       "content": {
        "cell": "2e730b46-9853-4838-816e-ff8e97da84be",
        "part": "whole"
       },
       "id": "8982fc67-c9a1-4db6-97d7-58101f7c8040"
      }
     }
    },
    "bb86916f-22a8-4cad-ab9a-137e746e7ba3": {
     "id": "bb86916f-22a8-4cad-ab9a-137e746e7ba3",
     "prev": "69faacce-ca91-480d-b1ce-d0f15c4ede2a",
     "regions": {
      "bf7e45a2-9159-450d-8686-8c7dab2fecbd": {
       "attrs": {
        "height": 0.8,
        "width": 0.8,
        "x": 0.1,
        "y": 0.1
       },
       "content": {
        "cell": "61f59abe-1fdb-4cd3-92e6-deb4de9fd7ee",
        "part": "whole"
       },
       "id": "bf7e45a2-9159-450d-8686-8c7dab2fecbd"
      }
     }
    },
    "c7e331d7-d0b1-49cf-bfa3-2ac44a38116f": {
     "id": "c7e331d7-d0b1-49cf-bfa3-2ac44a38116f",
     "prev": "9aa601e2-b5aa-4ed1-8c78-f7ec24217fbe",
     "regions": {
      "0701a907-2acf-4f7e-8890-21f3011987ef": {
       "attrs": {
        "height": 0.8,
        "width": 0.8,
        "x": 0.1,
        "y": 0.1
       },
       "content": {
        "cell": "e973c81c-5cbb-4025-978f-60aa03aa9c4c",
        "part": "whole"
       },
       "id": "0701a907-2acf-4f7e-8890-21f3011987ef"
      }
     }
    },
    "c8cc5f5d-2c29-4f78-a1fe-d914f768c600": {
     "id": "c8cc5f5d-2c29-4f78-a1fe-d914f768c600",
     "prev": "b90cf7f4-a0ba-492d-a0d4-a92560fe30b7",
     "regions": {
      "84ef4059-6e91-43f0-9fcd-dc40243ed3a5": {
       "attrs": {
        "height": 0.8,
        "width": 0.8,
        "x": 0.1,
        "y": 0.1
       },
       "content": {
        "cell": "8a8ef26e-2a72-4644-b0d4-cdd076a392f9",
        "part": "whole"
       },
       "id": "84ef4059-6e91-43f0-9fcd-dc40243ed3a5"
      }
     }
    },
    "cdf41d69-5276-47a8-b89d-50555f78b44b": {
     "id": "cdf41d69-5276-47a8-b89d-50555f78b44b",
     "prev": "337b12d4-4ce3-43e1-b407-27aaadfa62e0",
     "regions": {
      "40500d2a-0939-4012-81cd-4860fbe73bf7": {
       "attrs": {
        "height": 0.8,
        "width": 0.8,
        "x": 0.1,
        "y": 0.1
       },
       "content": {
        "cell": "2b46251a-35aa-4252-a3d4-c476fcf1452f",
        "part": "whole"
       },
       "id": "40500d2a-0939-4012-81cd-4860fbe73bf7"
      }
     }
    },
    "e36293b9-7d4d-41ac-8430-df3262023a67": {
     "id": "e36293b9-7d4d-41ac-8430-df3262023a67",
     "prev": "f28bfd23-8183-4f11-ab03-47b75fc08ccd",
     "regions": {
      "f1759137-770e-451f-90d2-753cbc8c0b6f": {
       "attrs": {
        "height": 0.8,
        "width": 0.8,
        "x": 0.1,
        "y": 0.1
       },
       "content": {
        "cell": "d16916af-4884-41ee-9518-2bc0f7d5fe24",
        "part": "whole"
       },
       "id": "f1759137-770e-451f-90d2-753cbc8c0b6f"
      }
     }
    },
    "ea52565c-1716-4f10-92cc-a9e175ef4ae8": {
     "id": "ea52565c-1716-4f10-92cc-a9e175ef4ae8",
     "prev": "b58ef714-490e-4a1a-bd31-71393128ba1d",
     "regions": {
      "15109071-ea18-4468-89aa-719c67362f0d": {
       "attrs": {
        "height": 0.8,
        "width": 0.8,
        "x": 0.1,
        "y": 0.1
       },
       "content": {
        "cell": "0f165874-220f-41b4-b486-be7398dad446",
        "part": "whole"
       },
       "id": "15109071-ea18-4468-89aa-719c67362f0d"
      }
     }
    },
    "f28bfd23-8183-4f11-ab03-47b75fc08ccd": {
     "id": "f28bfd23-8183-4f11-ab03-47b75fc08ccd",
     "prev": "c8cc5f5d-2c29-4f78-a1fe-d914f768c600",
     "regions": {
      "3569253b-ad12-478c-908b-e25d43c08610": {
       "attrs": {
        "height": 0.8,
        "width": 0.8,
        "x": 0.1,
        "y": 0.1
       },
       "content": {
        "cell": "9af63a0c-91ea-4777-a406-32dfca672581",
        "part": "whole"
       },
       "id": "3569253b-ad12-478c-908b-e25d43c08610"
      }
     }
    }
   },
   "themes": {}
  }
 },
 "nbformat": 4,
 "nbformat_minor": 1
}
